{
 "cells": [
  {
   "cell_type": "markdown",
   "metadata": {},
   "source": [
    "### Note\n",
    "* Instructions have been included for each segment. You do not have to follow them exactly, but they are included to help you think through the steps."
   ]
  },
  {
   "cell_type": "code",
   "execution_count": 78,
   "metadata": {},
   "outputs": [
    {
     "output_type": "execute_result",
     "data": {
      "text/plain": [
       "       Student ID       student_name gender grade         school_name  \\\n",
       "0               0       Paul Bradley      M   9th   Huang High School   \n",
       "1               1       Victor Smith      M  12th   Huang High School   \n",
       "2               2    Kevin Rodriguez      M  12th   Huang High School   \n",
       "3               3  Dr. Richard Scott      M  12th   Huang High School   \n",
       "4               4         Bonnie Ray      F   9th   Huang High School   \n",
       "...           ...                ...    ...   ...                 ...   \n",
       "39165       39165       Donna Howard      F  12th  Thomas High School   \n",
       "39166       39166          Dawn Bell      F  10th  Thomas High School   \n",
       "39167       39167     Rebecca Tanner      F   9th  Thomas High School   \n",
       "39168       39168       Desiree Kidd      F  10th  Thomas High School   \n",
       "39169       39169    Carolyn Jackson      F  11th  Thomas High School   \n",
       "\n",
       "       reading_score  math_score  School ID      type  size   budget  \n",
       "0                 66          79          0  District  2917  1910635  \n",
       "1                 94          61          0  District  2917  1910635  \n",
       "2                 90          60          0  District  2917  1910635  \n",
       "3                 67          58          0  District  2917  1910635  \n",
       "4                 97          84          0  District  2917  1910635  \n",
       "...              ...         ...        ...       ...   ...      ...  \n",
       "39165             99          90         14   Charter  1635  1043130  \n",
       "39166             95          70         14   Charter  1635  1043130  \n",
       "39167             73          84         14   Charter  1635  1043130  \n",
       "39168             99          90         14   Charter  1635  1043130  \n",
       "39169             95          75         14   Charter  1635  1043130  \n",
       "\n",
       "[39170 rows x 11 columns]"
      ],
      "text/html": "<div>\n<style scoped>\n    .dataframe tbody tr th:only-of-type {\n        vertical-align: middle;\n    }\n\n    .dataframe tbody tr th {\n        vertical-align: top;\n    }\n\n    .dataframe thead th {\n        text-align: right;\n    }\n</style>\n<table border=\"1\" class=\"dataframe\">\n  <thead>\n    <tr style=\"text-align: right;\">\n      <th></th>\n      <th>Student ID</th>\n      <th>student_name</th>\n      <th>gender</th>\n      <th>grade</th>\n      <th>school_name</th>\n      <th>reading_score</th>\n      <th>math_score</th>\n      <th>School ID</th>\n      <th>type</th>\n      <th>size</th>\n      <th>budget</th>\n    </tr>\n  </thead>\n  <tbody>\n    <tr>\n      <th>0</th>\n      <td>0</td>\n      <td>Paul Bradley</td>\n      <td>M</td>\n      <td>9th</td>\n      <td>Huang High School</td>\n      <td>66</td>\n      <td>79</td>\n      <td>0</td>\n      <td>District</td>\n      <td>2917</td>\n      <td>1910635</td>\n    </tr>\n    <tr>\n      <th>1</th>\n      <td>1</td>\n      <td>Victor Smith</td>\n      <td>M</td>\n      <td>12th</td>\n      <td>Huang High School</td>\n      <td>94</td>\n      <td>61</td>\n      <td>0</td>\n      <td>District</td>\n      <td>2917</td>\n      <td>1910635</td>\n    </tr>\n    <tr>\n      <th>2</th>\n      <td>2</td>\n      <td>Kevin Rodriguez</td>\n      <td>M</td>\n      <td>12th</td>\n      <td>Huang High School</td>\n      <td>90</td>\n      <td>60</td>\n      <td>0</td>\n      <td>District</td>\n      <td>2917</td>\n      <td>1910635</td>\n    </tr>\n    <tr>\n      <th>3</th>\n      <td>3</td>\n      <td>Dr. Richard Scott</td>\n      <td>M</td>\n      <td>12th</td>\n      <td>Huang High School</td>\n      <td>67</td>\n      <td>58</td>\n      <td>0</td>\n      <td>District</td>\n      <td>2917</td>\n      <td>1910635</td>\n    </tr>\n    <tr>\n      <th>4</th>\n      <td>4</td>\n      <td>Bonnie Ray</td>\n      <td>F</td>\n      <td>9th</td>\n      <td>Huang High School</td>\n      <td>97</td>\n      <td>84</td>\n      <td>0</td>\n      <td>District</td>\n      <td>2917</td>\n      <td>1910635</td>\n    </tr>\n    <tr>\n      <th>...</th>\n      <td>...</td>\n      <td>...</td>\n      <td>...</td>\n      <td>...</td>\n      <td>...</td>\n      <td>...</td>\n      <td>...</td>\n      <td>...</td>\n      <td>...</td>\n      <td>...</td>\n      <td>...</td>\n    </tr>\n    <tr>\n      <th>39165</th>\n      <td>39165</td>\n      <td>Donna Howard</td>\n      <td>F</td>\n      <td>12th</td>\n      <td>Thomas High School</td>\n      <td>99</td>\n      <td>90</td>\n      <td>14</td>\n      <td>Charter</td>\n      <td>1635</td>\n      <td>1043130</td>\n    </tr>\n    <tr>\n      <th>39166</th>\n      <td>39166</td>\n      <td>Dawn Bell</td>\n      <td>F</td>\n      <td>10th</td>\n      <td>Thomas High School</td>\n      <td>95</td>\n      <td>70</td>\n      <td>14</td>\n      <td>Charter</td>\n      <td>1635</td>\n      <td>1043130</td>\n    </tr>\n    <tr>\n      <th>39167</th>\n      <td>39167</td>\n      <td>Rebecca Tanner</td>\n      <td>F</td>\n      <td>9th</td>\n      <td>Thomas High School</td>\n      <td>73</td>\n      <td>84</td>\n      <td>14</td>\n      <td>Charter</td>\n      <td>1635</td>\n      <td>1043130</td>\n    </tr>\n    <tr>\n      <th>39168</th>\n      <td>39168</td>\n      <td>Desiree Kidd</td>\n      <td>F</td>\n      <td>10th</td>\n      <td>Thomas High School</td>\n      <td>99</td>\n      <td>90</td>\n      <td>14</td>\n      <td>Charter</td>\n      <td>1635</td>\n      <td>1043130</td>\n    </tr>\n    <tr>\n      <th>39169</th>\n      <td>39169</td>\n      <td>Carolyn Jackson</td>\n      <td>F</td>\n      <td>11th</td>\n      <td>Thomas High School</td>\n      <td>95</td>\n      <td>75</td>\n      <td>14</td>\n      <td>Charter</td>\n      <td>1635</td>\n      <td>1043130</td>\n    </tr>\n  </tbody>\n</table>\n<p>39170 rows × 11 columns</p>\n</div>"
     },
     "metadata": {},
     "execution_count": 78
    }
   ],
   "source": [
    "# Dependencies and Setup\n",
    "\n",
    "import os\n",
    "import pandas as pd\n",
    "\n",
    "# File to Load (Remember to Change These)\n",
    "school_data_to_load = (r\"/Users/kellenquinn/Desktop/pandas-challenge/pandas-challenge/pandas-challenge/PyCitySchools/Resources/schools_complete.csv\")\n",
    "student_data_to_load = (r\"/Users/kellenquinn/Desktop/pandas-challenge/pandas-challenge/pandas-challenge/PyCitySchools/Resources/students_complete.csv\")\n",
    "\n",
    "# Read School and Student Data File and store into Pandas DataFrames\n",
    "school_data_df = pd.read_csv(school_data_to_load)\n",
    "student_data_df = pd.read_csv(student_data_to_load)\n",
    "\n",
    "\n",
    "# Combine the data into a single dataset.  \n",
    "school_data_complete_df = pd.merge(student_data_df, school_data_df, how=\"left\", on=[\"school_name\", \"school_name\"])\n",
    "school_data_complete_df\n"
   ]
  },
  {
   "cell_type": "markdown",
   "metadata": {},
   "source": [
    "## District Summary\n",
    "\n",
    "* Calculate the total number of schools\n",
    "\n",
    "* Calculate the total number of students\n",
    "\n",
    "* Calculate the total budget\n",
    "\n",
    "* Calculate the average math score \n",
    "\n",
    "* Calculate the average reading score\n",
    "\n",
    "* Calculate the percentage of students with a passing math score (70 or greater)\n",
    "\n",
    "* Calculate the percentage of students with a passing reading score (70 or greater)\n",
    "\n",
    "* Calculate the percentage of students who passed math **and** reading (% Overall Passing)\n",
    "\n",
    "* Create a dataframe to hold the above results\n",
    "\n",
    "* Optional: give the displayed data cleaner formatting"
   ]
  },
  {
   "cell_type": "code",
   "execution_count": 37,
   "metadata": {},
   "outputs": [
    {
     "output_type": "stream",
     "name": "stdout",
     "text": [
      "No_of_schools: 15\n"
     ]
    }
   ],
   "source": [
    "# Total Number of Schools in District\n",
    "Schools = len(pd.unique(school_data_complete_df['school_name']))\n",
    "print(\"No_of_schools:\", Schools)          "
   ]
  },
  {
   "cell_type": "code",
   "execution_count": 38,
   "metadata": {},
   "outputs": [
    {
     "output_type": "stream",
     "name": "stdout",
     "text": [
      "No_of_students: 39170\n"
     ]
    }
   ],
   "source": [
    "# Total Number of Students in District\n",
    "Students = len(pd.unique(school_data_complete_df['Student ID']))\n",
    "print(\"No_of_students:\", Students)"
   ]
  },
  {
   "cell_type": "code",
   "execution_count": 39,
   "metadata": {},
   "outputs": [
    {
     "output_type": "stream",
     "name": "stdout",
     "text": [
      "$24649428.00\n"
     ]
    }
   ],
   "source": [
    "# Total District Budget\n",
    "TotalDistBudget=school_data_df['budget'].sum()\n",
    "print(\"${:.2f}\".format(TotalDistBudget))"
   ]
  },
  {
   "cell_type": "code",
   "execution_count": 40,
   "metadata": {},
   "outputs": [
    {
     "output_type": "stream",
     "name": "stdout",
     "text": [
      "78.99%\n"
     ]
    }
   ],
   "source": [
    "# Average Math Score\n",
    "Average_Math_Score =student_data_df['math_score'].mean()\n",
    "print(\"{:.2f}%\".format(Average_Math_Score))"
   ]
  },
  {
   "cell_type": "code",
   "execution_count": 41,
   "metadata": {},
   "outputs": [
    {
     "output_type": "stream",
     "name": "stdout",
     "text": [
      "81.88%\n"
     ]
    }
   ],
   "source": [
    " # Average Reading Score\n",
    " Average_Reading_Score = student_data_df['reading_score'].mean()\n",
    " print(\"{:.2f}%\".format(Average_Reading_Score))"
   ]
  },
  {
   "cell_type": "code",
   "execution_count": 42,
   "metadata": {},
   "outputs": [
    {
     "output_type": "stream",
     "name": "stdout",
     "text": [
      "Percent of Students Passing Math Test: 74.98%\n"
     ]
    }
   ],
   "source": [
    "# Percent Passing Math\n",
    "Percent_Pass_Math=(student_data_df['math_score']>=70).sum()\n",
    "print(\"Percent of Students Passing Math Test: {:.2f}%\".format((Percent_Pass_Math/Students)*100))"
   ]
  },
  {
   "cell_type": "code",
   "execution_count": 43,
   "metadata": {},
   "outputs": [
    {
     "output_type": "stream",
     "name": "stdout",
     "text": [
      "Percent of Students Passing Reading Test: 85.81%\n"
     ]
    }
   ],
   "source": [
    "#Percent Passing Reading\n",
    "Percent_Pass_Reading=(student_data_df['reading_score']>=70).sum()\n",
    "print(\"Percent of Students Passing Reading Test: {:.2f}%\".format((Percent_Pass_Reading/Students)*100))"
   ]
  },
  {
   "cell_type": "code",
   "execution_count": 44,
   "metadata": {},
   "outputs": [
    {
     "output_type": "stream",
     "name": "stdout",
     "text": [
      "Percent of Students Passing Both Tests: 65.17%\n"
     ]
    }
   ],
   "source": [
    "#Percent Passing Both Math and Reading\n",
    "Percent_Pass_Both=((student_data_df['math_score']>=70) & (student_data_df['reading_score']>=70)).sum()\n",
    "print(\"Percent of Students Passing Both Tests: {:.2f}%\".format((Percent_Pass_Both/Students)*100))"
   ]
  },
  {
   "cell_type": "code",
   "execution_count": 45,
   "metadata": {},
   "outputs": [
    {
     "output_type": "execute_result",
     "data": {
      "text/plain": [
       "   Schools  Students     Budget Avg Math Score Passing Math Avg Reading Score  \\\n",
       "0       15     39170  $24649428         78.99%       74.98%            81.88%   \n",
       "\n",
       "  Passing Reading % Passing Both  \n",
       "0          85.81%         65.17%  "
      ],
      "text/html": "<div>\n<style scoped>\n    .dataframe tbody tr th:only-of-type {\n        vertical-align: middle;\n    }\n\n    .dataframe tbody tr th {\n        vertical-align: top;\n    }\n\n    .dataframe thead th {\n        text-align: right;\n    }\n</style>\n<table border=\"1\" class=\"dataframe\">\n  <thead>\n    <tr style=\"text-align: right;\">\n      <th></th>\n      <th>Schools</th>\n      <th>Students</th>\n      <th>Budget</th>\n      <th>Avg Math Score</th>\n      <th>Passing Math</th>\n      <th>Avg Reading Score</th>\n      <th>Passing Reading</th>\n      <th>% Passing Both</th>\n    </tr>\n  </thead>\n  <tbody>\n    <tr>\n      <th>0</th>\n      <td>15</td>\n      <td>39170</td>\n      <td>$24649428</td>\n      <td>78.99%</td>\n      <td>74.98%</td>\n      <td>81.88%</td>\n      <td>85.81%</td>\n      <td>65.17%</td>\n    </tr>\n  </tbody>\n</table>\n</div>"
     },
     "metadata": {},
     "execution_count": 45
    }
   ],
   "source": [
    "#District Data Overview Table\n",
    "District_Data = {'Schools':[Schools], 'Students': [Students],'Budget':[TotalDistBudget],'Avg Math Score':[Average_Math_Score], 'Passing Math':['74.98%'], 'Avg Reading Score': [Average_Reading_Score], 'Passing Reading':['85.81%'], '% Passing Both':['65.17%']}\n",
    "df=pd.DataFrame(District_Data)\n",
    "df[\"Avg Math Score\"]=df[\"Avg Math Score\"].map(\"{:.2f}%\".format)\n",
    "df[\"Avg Reading Score\"]=df[\"Avg Reading Score\"].map(\"{:.2f}%\".format)\n",
    "df[\"Budget\"]=df[\"Budget\"].map(\"${:.0f}\".format)\n",
    "df.head()"
   ]
  },
  {
   "cell_type": "markdown",
   "metadata": {},
   "source": [
    "* Create an overview table that summarizes key metrics about each school, including:\n",
    "  * School Name\n",
    "  * School Type\n",
    "  * Total Students\n",
    "  * Total School Budget\n",
    "  * Per Student Budget\n",
    "  * Average Math Score\n",
    "  * Average Reading Score\n",
    "  * % Passing Math\n",
    "  * % Passing Reading\n",
    "  * % Overall Passing (The percentage of students that passed math **and** reading.)\n",
    "  \n",
    "* Create a dataframe to hold the above results"
   ]
  },
  {
   "cell_type": "code",
   "execution_count": 46,
   "metadata": {},
   "outputs": [
    {
     "output_type": "execute_result",
     "data": {
      "text/plain": [
       "0         Huang High School\n",
       "1      Figueroa High School\n",
       "2       Shelton High School\n",
       "3     Hernandez High School\n",
       "4       Griffin High School\n",
       "5        Wilson High School\n",
       "6       Cabrera High School\n",
       "7        Bailey High School\n",
       "8        Holden High School\n",
       "9          Pena High School\n",
       "10       Wright High School\n",
       "11    Rodriguez High School\n",
       "12      Johnson High School\n",
       "13         Ford High School\n",
       "14       Thomas High School\n",
       "Name: school_name, dtype: object"
      ]
     },
     "metadata": {},
     "execution_count": 46
    }
   ],
   "source": [
    "#Groupby of Schools CSV\n",
    "#by_school=school_data_df.groupby(\"school_name\")\n",
    "#by_school.head()\n",
    "\n",
    "by_school = school_data_df['school_name']\n",
    "by_school"
   ]
  },
  {
   "cell_type": "code",
   "execution_count": 47,
   "metadata": {},
   "outputs": [
    {
     "output_type": "execute_result",
     "data": {
      "text/plain": [
       "school_name\n",
       "Huang High School        District\n",
       "Figueroa High School     District\n",
       "Shelton High School       Charter\n",
       "Hernandez High School    District\n",
       "Griffin High School       Charter\n",
       "Wilson High School        Charter\n",
       "Cabrera High School       Charter\n",
       "Bailey High School       District\n",
       "Holden High School        Charter\n",
       "Pena High School          Charter\n",
       "Wright High School        Charter\n",
       "Rodriguez High School    District\n",
       "Johnson High School      District\n",
       "Ford High School         District\n",
       "Thomas High School        Charter\n",
       "Name: type, dtype: object"
      ]
     },
     "metadata": {},
     "execution_count": 47
    }
   ],
   "source": [
    "#Groubpy of School Types\n",
    "School_type = school_data_df.set_index([\"school_name\"])[\"type\"]\n",
    "School_type"
   ]
  },
  {
   "cell_type": "code",
   "execution_count": 48,
   "metadata": {},
   "outputs": [
    {
     "output_type": "execute_result",
     "data": {
      "text/plain": [
       "school_name\n",
       "Bailey High School       $3124928\n",
       "Cabrera High School      $1081356\n",
       "Figueroa High School     $1884411\n",
       "Ford High School         $1763916\n",
       "Griffin High School       $917500\n",
       "Hernandez High School    $3022020\n",
       "Holden High School        $248087\n",
       "Huang High School        $1910635\n",
       "Johnson High School      $3094650\n",
       "Pena High School          $585858\n",
       "Rodriguez High School    $2547363\n",
       "Shelton High School      $1056600\n",
       "Thomas High School       $1043130\n",
       "Wilson High School       $1319574\n",
       "Wright High School       $1049400\n",
       "Name: budget, dtype: object"
      ]
     },
     "metadata": {},
     "execution_count": 48
    }
   ],
   "source": [
    "# Groupby of Merged Data\n",
    "Budget_Per_School=school_data_complete_df.groupby(\"school_name\").mean()[\"budget\"]\n",
    "Budget_Per_School.map(\"${:.0f}\".format)"
   ]
  },
  {
   "cell_type": "code",
   "execution_count": 49,
   "metadata": {},
   "outputs": [
    {
     "output_type": "execute_result",
     "data": {
      "text/plain": [
       "Bailey High School       $628\n",
       "Cabrera High School      $582\n",
       "Figueroa High School     $639\n",
       "Ford High School         $644\n",
       "Griffin High School      $625\n",
       "Hernandez High School    $652\n",
       "Holden High School       $581\n",
       "Huang High School        $655\n",
       "Johnson High School      $650\n",
       "Pena High School         $609\n",
       "Rodriguez High School    $637\n",
       "Shelton High School      $600\n",
       "Thomas High School       $638\n",
       "Wilson High School       $578\n",
       "Wright High School       $583\n",
       "dtype: object"
      ]
     },
     "metadata": {},
     "execution_count": 49
    }
   ],
   "source": [
    "# Average Budget Per Student\n",
    "Budget_Per_School=school_data_complete_df.groupby(\"school_name\").mean()[\"budget\"]\n",
    "Average__budget_per_student=Budget_Per_School/school_data_complete_df[\"school_name\"].value_counts()\n",
    "Average__budget_per_student.map(\"${:.0f}\".format)"
   ]
  },
  {
   "cell_type": "code",
   "execution_count": 50,
   "metadata": {},
   "outputs": [
    {
     "output_type": "execute_result",
     "data": {
      "text/plain": [
       "school_name\n",
       "Bailey High School       81.03%\n",
       "Cabrera High School      83.98%\n",
       "Figueroa High School     81.16%\n",
       "Ford High School         80.75%\n",
       "Griffin High School      83.82%\n",
       "Hernandez High School    80.93%\n",
       "Holden High School       83.81%\n",
       "Huang High School        81.18%\n",
       "Johnson High School      80.97%\n",
       "Pena High School         84.04%\n",
       "Rodriguez High School    80.74%\n",
       "Shelton High School      83.73%\n",
       "Thomas High School       83.85%\n",
       "Wilson High School       83.99%\n",
       "Wright High School       83.95%\n",
       "Name: reading_score, dtype: object"
      ]
     },
     "metadata": {},
     "execution_count": 50
    }
   ],
   "source": [
    "# Average Reading Score Per Student\n",
    "Average_reading_score_perschool=school_data_complete_df.groupby(\"school_name\").mean()[\"reading_score\"]\n",
    "Average_reading_score_perschool.map(\"{:.2f}%\".format)"
   ]
  },
  {
   "cell_type": "code",
   "execution_count": 51,
   "metadata": {},
   "outputs": [
    {
     "output_type": "execute_result",
     "data": {
      "text/plain": [
       "Bailey High School       81.93%\n",
       "Cabrera High School      97.04%\n",
       "Figueroa High School     80.74%\n",
       "Ford High School         79.30%\n",
       "Griffin High School      97.14%\n",
       "Hernandez High School    80.86%\n",
       "Holden High School       96.25%\n",
       "Huang High School        81.32%\n",
       "Johnson High School      81.22%\n",
       "Pena High School         95.95%\n",
       "Rodriguez High School    80.22%\n",
       "Shelton High School      95.85%\n",
       "Thomas High School       97.31%\n",
       "Wilson High School       96.54%\n",
       "Wright High School       96.61%\n",
       "dtype: object"
      ]
     },
     "metadata": {},
     "execution_count": 51
    }
   ],
   "source": [
    "# Average Percent Passing Reading Per School\n",
    "School_passing_reading=school_data_complete_df[(school_data_complete_df['reading_score']>=70)]\n",
    "\n",
    "# Calculate Passing Rate\n",
    "Average_reading_per_school=School_passing_reading.groupby([\"school_name\"]).count()[\"student_name\"]/school_data_complete_df[\"school_name\"].value_counts()*100\n",
    "Average_reading_per_school.map(\"{:.2f}%\".format)\n"
   ]
  },
  {
   "cell_type": "code",
   "execution_count": 52,
   "metadata": {},
   "outputs": [
    {
     "output_type": "execute_result",
     "data": {
      "text/plain": [
       "school_name\n",
       "Bailey High School       77.05%\n",
       "Cabrera High School      83.06%\n",
       "Figueroa High School     76.71%\n",
       "Ford High School         77.10%\n",
       "Griffin High School      83.35%\n",
       "Hernandez High School    77.29%\n",
       "Holden High School       83.80%\n",
       "Huang High School        76.63%\n",
       "Johnson High School      77.07%\n",
       "Pena High School         83.84%\n",
       "Rodriguez High School    76.84%\n",
       "Shelton High School      83.36%\n",
       "Thomas High School       83.42%\n",
       "Wilson High School       83.27%\n",
       "Wright High School       83.68%\n",
       "Name: math_score, dtype: object"
      ]
     },
     "metadata": {},
     "execution_count": 52
    }
   ],
   "source": [
    "# Average Math Score Per Student\n",
    "Average_Math_Score_PerSchool=school_data_complete_df.groupby(\"school_name\").mean()[\"math_score\"]\n",
    "Average_Math_Score_PerSchool.map(\"{:.2f}%\".format)"
   ]
  },
  {
   "cell_type": "code",
   "execution_count": 53,
   "metadata": {},
   "outputs": [
    {
     "output_type": "execute_result",
     "data": {
      "text/plain": [
       "Bailey High School       66.68%\n",
       "Cabrera High School      94.13%\n",
       "Figueroa High School     65.99%\n",
       "Ford High School         68.31%\n",
       "Griffin High School      93.39%\n",
       "Hernandez High School    66.75%\n",
       "Holden High School       92.51%\n",
       "Huang High School        65.68%\n",
       "Johnson High School      66.06%\n",
       "Pena High School         94.59%\n",
       "Rodriguez High School    66.37%\n",
       "Shelton High School      93.87%\n",
       "Thomas High School       93.27%\n",
       "Wilson High School       93.87%\n",
       "Wright High School       93.33%\n",
       "dtype: object"
      ]
     },
     "metadata": {},
     "execution_count": 53
    }
   ],
   "source": [
    "# Average Percent Passing Math Per School\n",
    "School_passing_math=school_data_complete_df[(school_data_complete_df['math_score']>=70)]\n",
    "\n",
    "# Calculate Passing Rate\n",
    "Average_math_per_school=School_passing_math.groupby([\"school_name\"]).count()[\"student_name\"]/school_data_complete_df[\"school_name\"].value_counts()*100\n",
    "Average_math_per_school.map(\"{:.2f}%\".format)\n"
   ]
  },
  {
   "cell_type": "code",
   "execution_count": 54,
   "metadata": {},
   "outputs": [
    {
     "output_type": "execute_result",
     "data": {
      "text/plain": [
       "Bailey High School       54.64%\n",
       "Cabrera High School      91.33%\n",
       "Figueroa High School     53.20%\n",
       "Ford High School         54.29%\n",
       "Griffin High School      90.60%\n",
       "Hernandez High School    53.53%\n",
       "Holden High School       89.23%\n",
       "Huang High School        53.51%\n",
       "Johnson High School      53.54%\n",
       "Pena High School         90.54%\n",
       "Rodriguez High School    52.99%\n",
       "Shelton High School      89.89%\n",
       "Thomas High School       90.95%\n",
       "Wilson High School       90.58%\n",
       "Wright High School       90.33%\n",
       "dtype: object"
      ]
     },
     "metadata": {},
     "execution_count": 54
    }
   ],
   "source": [
    "# Average Percent Passing Math and Reading Per School\n",
    "School_passing_both=school_data_complete_df[(school_data_complete_df['math_score']>=70)&(school_data_complete_df['reading_score']>=70)]\n",
    "\n",
    "# Calculate Passing Rate\n",
    "Average_both_per_school=School_passing_both.groupby([\"school_name\"]).count()[\"student_name\"]/school_data_complete_df[\"school_name\"].value_counts()*100\n",
    "Average_both_per_school.map(\"{:.2f}%\".format)\n"
   ]
  },
  {
   "cell_type": "code",
   "execution_count": 54,
   "metadata": {},
   "outputs": [],
   "source": [
    " "
   ]
  },
  {
   "cell_type": "code",
   "execution_count": 55,
   "metadata": {},
   "outputs": [
    {
     "output_type": "execute_result",
     "data": {
      "text/plain": [
       "school_name\n",
       "Bailey High School       4976\n",
       "Cabrera High School      1858\n",
       "Figueroa High School     2949\n",
       "Ford High School         2739\n",
       "Griffin High School      1468\n",
       "Hernandez High School    4635\n",
       "Holden High School        427\n",
       "Huang High School        2917\n",
       "Johnson High School      4761\n",
       "Pena High School          962\n",
       "Rodriguez High School    3999\n",
       "Shelton High School      1761\n",
       "Thomas High School       1635\n",
       "Wilson High School       2283\n",
       "Wright High School       1800\n",
       "Name: size, dtype: int64"
      ]
     },
     "metadata": {},
     "execution_count": 55
    }
   ],
   "source": [
    "Population=school_data_complete_df.groupby(\"school_name\").count()[\"size\"]\n",
    "Population"
   ]
  },
  {
   "cell_type": "code",
   "execution_count": 73,
   "metadata": {},
   "outputs": [
    {
     "output_type": "execute_result",
     "data": {
      "text/plain": [
       "                      School Type  Total Students Total School Budget  \\\n",
       "Bailey High School       District            4976         $3124928.00   \n",
       "Cabrera High School       Charter            1858         $1081356.00   \n",
       "Figueroa High School     District            2949         $1884411.00   \n",
       "Ford High School         District            2739         $1763916.00   \n",
       "Griffin High School       Charter            1468          $917500.00   \n",
       "Hernandez High School    District            4635         $3022020.00   \n",
       "Holden High School        Charter             427          $248087.00   \n",
       "Huang High School        District            2917         $1910635.00   \n",
       "Johnson High School      District            4761         $3094650.00   \n",
       "Pena High School          Charter             962          $585858.00   \n",
       "Rodriguez High School    District            3999         $2547363.00   \n",
       "Shelton High School       Charter            1761         $1056600.00   \n",
       "Thomas High School        Charter            1635         $1043130.00   \n",
       "Wilson High School        Charter            2283         $1319574.00   \n",
       "Wright High School        Charter            1800         $1049400.00   \n",
       "\n",
       "                      Per Student Budget Average Math Score  \\\n",
       "Bailey High School               $628.00             77.05%   \n",
       "Cabrera High School              $582.00             83.06%   \n",
       "Figueroa High School             $639.00             76.71%   \n",
       "Ford High School                 $644.00             77.10%   \n",
       "Griffin High School              $625.00             83.35%   \n",
       "Hernandez High School            $652.00             77.29%   \n",
       "Holden High School               $581.00             83.80%   \n",
       "Huang High School                $655.00             76.63%   \n",
       "Johnson High School              $650.00             77.07%   \n",
       "Pena High School                 $609.00             83.84%   \n",
       "Rodriguez High School            $637.00             76.84%   \n",
       "Shelton High School              $600.00             83.36%   \n",
       "Thomas High School               $638.00             83.42%   \n",
       "Wilson High School               $578.00             83.27%   \n",
       "Wright High School               $583.00             83.68%   \n",
       "\n",
       "                      Average Reading Score % Passing Math % Passing Reading  \\\n",
       "Bailey High School                   81.03%         66.68%            81.93%   \n",
       "Cabrera High School                  83.98%         94.13%            97.04%   \n",
       "Figueroa High School                 81.16%         65.99%            80.74%   \n",
       "Ford High School                     80.75%         68.31%            79.30%   \n",
       "Griffin High School                  83.82%         93.39%            97.14%   \n",
       "Hernandez High School                80.93%         66.75%            80.86%   \n",
       "Holden High School                   83.81%         92.51%            96.25%   \n",
       "Huang High School                    81.18%         65.68%            81.32%   \n",
       "Johnson High School                  80.97%         66.06%            81.22%   \n",
       "Pena High School                     84.04%         94.59%            95.95%   \n",
       "Rodriguez High School                80.74%         66.37%            80.22%   \n",
       "Shelton High School                  83.73%         93.87%            95.85%   \n",
       "Thomas High School                   83.85%         93.27%            97.31%   \n",
       "Wilson High School                   83.99%         93.87%            96.54%   \n",
       "Wright High School                   83.95%         93.33%            96.61%   \n",
       "\n",
       "                      % Passing Both  \n",
       "Bailey High School            54.64%  \n",
       "Cabrera High School           91.33%  \n",
       "Figueroa High School          53.20%  \n",
       "Ford High School              54.29%  \n",
       "Griffin High School           90.60%  \n",
       "Hernandez High School         53.53%  \n",
       "Holden High School            89.23%  \n",
       "Huang High School             53.51%  \n",
       "Johnson High School           53.54%  \n",
       "Pena High School              90.54%  \n",
       "Rodriguez High School         52.99%  \n",
       "Shelton High School           89.89%  \n",
       "Thomas High School            90.95%  \n",
       "Wilson High School            90.58%  \n",
       "Wright High School            90.33%  "
      ],
      "text/html": "<div>\n<style scoped>\n    .dataframe tbody tr th:only-of-type {\n        vertical-align: middle;\n    }\n\n    .dataframe tbody tr th {\n        vertical-align: top;\n    }\n\n    .dataframe thead th {\n        text-align: right;\n    }\n</style>\n<table border=\"1\" class=\"dataframe\">\n  <thead>\n    <tr style=\"text-align: right;\">\n      <th></th>\n      <th>School Type</th>\n      <th>Total Students</th>\n      <th>Total School Budget</th>\n      <th>Per Student Budget</th>\n      <th>Average Math Score</th>\n      <th>Average Reading Score</th>\n      <th>% Passing Math</th>\n      <th>% Passing Reading</th>\n      <th>% Passing Both</th>\n    </tr>\n  </thead>\n  <tbody>\n    <tr>\n      <th>Bailey High School</th>\n      <td>District</td>\n      <td>4976</td>\n      <td>$3124928.00</td>\n      <td>$628.00</td>\n      <td>77.05%</td>\n      <td>81.03%</td>\n      <td>66.68%</td>\n      <td>81.93%</td>\n      <td>54.64%</td>\n    </tr>\n    <tr>\n      <th>Cabrera High School</th>\n      <td>Charter</td>\n      <td>1858</td>\n      <td>$1081356.00</td>\n      <td>$582.00</td>\n      <td>83.06%</td>\n      <td>83.98%</td>\n      <td>94.13%</td>\n      <td>97.04%</td>\n      <td>91.33%</td>\n    </tr>\n    <tr>\n      <th>Figueroa High School</th>\n      <td>District</td>\n      <td>2949</td>\n      <td>$1884411.00</td>\n      <td>$639.00</td>\n      <td>76.71%</td>\n      <td>81.16%</td>\n      <td>65.99%</td>\n      <td>80.74%</td>\n      <td>53.20%</td>\n    </tr>\n    <tr>\n      <th>Ford High School</th>\n      <td>District</td>\n      <td>2739</td>\n      <td>$1763916.00</td>\n      <td>$644.00</td>\n      <td>77.10%</td>\n      <td>80.75%</td>\n      <td>68.31%</td>\n      <td>79.30%</td>\n      <td>54.29%</td>\n    </tr>\n    <tr>\n      <th>Griffin High School</th>\n      <td>Charter</td>\n      <td>1468</td>\n      <td>$917500.00</td>\n      <td>$625.00</td>\n      <td>83.35%</td>\n      <td>83.82%</td>\n      <td>93.39%</td>\n      <td>97.14%</td>\n      <td>90.60%</td>\n    </tr>\n    <tr>\n      <th>Hernandez High School</th>\n      <td>District</td>\n      <td>4635</td>\n      <td>$3022020.00</td>\n      <td>$652.00</td>\n      <td>77.29%</td>\n      <td>80.93%</td>\n      <td>66.75%</td>\n      <td>80.86%</td>\n      <td>53.53%</td>\n    </tr>\n    <tr>\n      <th>Holden High School</th>\n      <td>Charter</td>\n      <td>427</td>\n      <td>$248087.00</td>\n      <td>$581.00</td>\n      <td>83.80%</td>\n      <td>83.81%</td>\n      <td>92.51%</td>\n      <td>96.25%</td>\n      <td>89.23%</td>\n    </tr>\n    <tr>\n      <th>Huang High School</th>\n      <td>District</td>\n      <td>2917</td>\n      <td>$1910635.00</td>\n      <td>$655.00</td>\n      <td>76.63%</td>\n      <td>81.18%</td>\n      <td>65.68%</td>\n      <td>81.32%</td>\n      <td>53.51%</td>\n    </tr>\n    <tr>\n      <th>Johnson High School</th>\n      <td>District</td>\n      <td>4761</td>\n      <td>$3094650.00</td>\n      <td>$650.00</td>\n      <td>77.07%</td>\n      <td>80.97%</td>\n      <td>66.06%</td>\n      <td>81.22%</td>\n      <td>53.54%</td>\n    </tr>\n    <tr>\n      <th>Pena High School</th>\n      <td>Charter</td>\n      <td>962</td>\n      <td>$585858.00</td>\n      <td>$609.00</td>\n      <td>83.84%</td>\n      <td>84.04%</td>\n      <td>94.59%</td>\n      <td>95.95%</td>\n      <td>90.54%</td>\n    </tr>\n    <tr>\n      <th>Rodriguez High School</th>\n      <td>District</td>\n      <td>3999</td>\n      <td>$2547363.00</td>\n      <td>$637.00</td>\n      <td>76.84%</td>\n      <td>80.74%</td>\n      <td>66.37%</td>\n      <td>80.22%</td>\n      <td>52.99%</td>\n    </tr>\n    <tr>\n      <th>Shelton High School</th>\n      <td>Charter</td>\n      <td>1761</td>\n      <td>$1056600.00</td>\n      <td>$600.00</td>\n      <td>83.36%</td>\n      <td>83.73%</td>\n      <td>93.87%</td>\n      <td>95.85%</td>\n      <td>89.89%</td>\n    </tr>\n    <tr>\n      <th>Thomas High School</th>\n      <td>Charter</td>\n      <td>1635</td>\n      <td>$1043130.00</td>\n      <td>$638.00</td>\n      <td>83.42%</td>\n      <td>83.85%</td>\n      <td>93.27%</td>\n      <td>97.31%</td>\n      <td>90.95%</td>\n    </tr>\n    <tr>\n      <th>Wilson High School</th>\n      <td>Charter</td>\n      <td>2283</td>\n      <td>$1319574.00</td>\n      <td>$578.00</td>\n      <td>83.27%</td>\n      <td>83.99%</td>\n      <td>93.87%</td>\n      <td>96.54%</td>\n      <td>90.58%</td>\n    </tr>\n    <tr>\n      <th>Wright High School</th>\n      <td>Charter</td>\n      <td>1800</td>\n      <td>$1049400.00</td>\n      <td>$583.00</td>\n      <td>83.68%</td>\n      <td>83.95%</td>\n      <td>93.33%</td>\n      <td>96.61%</td>\n      <td>90.33%</td>\n    </tr>\n  </tbody>\n</table>\n</div>"
     },
     "metadata": {},
     "execution_count": 73
    }
   ],
   "source": [
    "#Schools Overview Table\n",
    "\n",
    "School_Overview={'School Type': School_type, 'Total Students':Population, 'Total School Budget':Budget_Per_School.map(\"${:.2f}\".format), 'Per Student Budget':Average__budget_per_student.map(\"${:.2f}\".format), 'Average Math Score': Average_Math_Score_PerSchool.map(\"{:.2f}%\".format), 'Average Reading Score': Average_reading_score_perschool.map(\"{:.2f}%\".format), '% Passing Math':Average_math_per_school.map(\"{:.2f}%\".format), '% Passing Reading': Average_reading_per_school.map(\"{:.2f}%\".format), '% Passing Both': Average_both_per_school.map(\"{:.2f}%\".format)}\n",
    "pd.DataFrame(School_Overview)\n"
   ]
  },
  {
   "cell_type": "markdown",
   "metadata": {},
   "source": [
    "* Sort and display the top five performing schools by % overall passing."
   ]
  },
  {
   "cell_type": "code",
   "execution_count": 79,
   "metadata": {},
   "outputs": [
    {
     "output_type": "error",
     "ename": "AttributeError",
     "evalue": "'dict' object has no attribute 'sort_values'",
     "traceback": [
      "\u001b[0;31m---------------------------------------------------------------------------\u001b[0m",
      "\u001b[0;31mAttributeError\u001b[0m                            Traceback (most recent call last)",
      "\u001b[0;32m<ipython-input-79-e0c1cfbaeb4f>\u001b[0m in \u001b[0;36m<module>\u001b[0;34m\u001b[0m\n\u001b[0;32m----> 1\u001b[0;31m \u001b[0mTop_Schools\u001b[0m\u001b[0;34m=\u001b[0m\u001b[0mSchool_Overview\u001b[0m\u001b[0;34m.\u001b[0m\u001b[0msort_values\u001b[0m\u001b[0;34m(\u001b[0m\u001b[0;34m[\u001b[0m\u001b[0;34m\"% Passing Both\"\u001b[0m\u001b[0;34m]\u001b[0m\u001b[0;34m,\u001b[0m \u001b[0mascending\u001b[0m\u001b[0;34m=\u001b[0m\u001b[0;32mFalse\u001b[0m\u001b[0;34m)\u001b[0m\u001b[0;34m\u001b[0m\u001b[0;34m\u001b[0m\u001b[0m\n\u001b[0m\u001b[1;32m      2\u001b[0m \u001b[0;34m\u001b[0m\u001b[0m\n\u001b[1;32m      3\u001b[0m \u001b[0;31m#pd.DataFrame(School_Overview).sort_values(by='col9', ascending=False)\u001b[0m\u001b[0;34m\u001b[0m\u001b[0;34m\u001b[0m\u001b[0;34m\u001b[0m\u001b[0m\n\u001b[1;32m      4\u001b[0m \u001b[0;31m#School_Overview.head(5)\u001b[0m\u001b[0;34m\u001b[0m\u001b[0;34m\u001b[0m\u001b[0;34m\u001b[0m\u001b[0m\n",
      "\u001b[0;31mAttributeError\u001b[0m: 'dict' object has no attribute 'sort_values'"
     ]
    }
   ],
   "source": [
    "Top_Schools=School_Overview.sort_values([\"% Passing Both\"], ascending=False)\n",
    "\n",
    "#pd.DataFrame(School_Overview).sort_values(by='col9', ascending=False)\n",
    "#School_Overview.head(5)"
   ]
  },
  {
   "cell_type": "markdown",
   "metadata": {},
   "source": [
    "## Bottom Performing Schools (By % Overall Passing)"
   ]
  },
  {
   "cell_type": "markdown",
   "metadata": {},
   "source": [
    "* Sort and display the five worst-performing schools by % overall passing."
   ]
  },
  {
   "cell_type": "code",
   "execution_count": null,
   "metadata": {},
   "outputs": [],
   "source": []
  },
  {
   "cell_type": "markdown",
   "metadata": {
    "collapsed": true
   },
   "source": [
    "## Math Scores by Grade"
   ]
  },
  {
   "cell_type": "markdown",
   "metadata": {},
   "source": [
    "* Create a table that lists the average Reading Score for students of each grade level (9th, 10th, 11th, 12th) at each school.\n",
    "\n",
    "  * Create a pandas series for each grade. Hint: use a conditional statement.\n",
    "  \n",
    "  * Group each series by school\n",
    "  \n",
    "  * Combine the series into a dataframe\n",
    "  \n",
    "  * Optional: give the displayed data cleaner formatting"
   ]
  },
  {
   "cell_type": "code",
   "execution_count": null,
   "metadata": {},
   "outputs": [],
   "source": []
  },
  {
   "cell_type": "markdown",
   "metadata": {},
   "source": [
    "## Reading Score by Grade "
   ]
  },
  {
   "cell_type": "markdown",
   "metadata": {},
   "source": [
    "* Perform the same operations as above for reading scores"
   ]
  },
  {
   "cell_type": "code",
   "execution_count": null,
   "metadata": {},
   "outputs": [],
   "source": []
  },
  {
   "cell_type": "markdown",
   "metadata": {},
   "source": [
    "## Scores by School Spending"
   ]
  },
  {
   "cell_type": "markdown",
   "metadata": {},
   "source": [
    "* Create a table that breaks down school performances based on average Spending Ranges (Per Student). Use 4 reasonable bins to group school spending. Include in the table each of the following:\n",
    "  * Average Math Score\n",
    "  * Average Reading Score\n",
    "  * % Passing Math\n",
    "  * % Passing Reading\n",
    "  * Overall Passing Rate (Average of the above two)"
   ]
  },
  {
   "cell_type": "code",
   "execution_count": null,
   "metadata": {},
   "outputs": [],
   "source": []
  },
  {
   "cell_type": "markdown",
   "metadata": {},
   "source": [
    "## Scores by School Size"
   ]
  },
  {
   "cell_type": "markdown",
   "metadata": {},
   "source": [
    "* Perform the same operations as above, based on school size."
   ]
  },
  {
   "cell_type": "code",
   "execution_count": null,
   "metadata": {
    "scrolled": true
   },
   "outputs": [],
   "source": []
  },
  {
   "cell_type": "markdown",
   "metadata": {},
   "source": [
    "## Scores by School Type"
   ]
  },
  {
   "cell_type": "markdown",
   "metadata": {},
   "source": [
    "* Perform the same operations as above, based on school type"
   ]
  },
  {
   "cell_type": "code",
   "execution_count": null,
   "metadata": {},
   "outputs": [],
   "source": []
  },
  {
   "cell_type": "code",
   "execution_count": null,
   "metadata": {},
   "outputs": [],
   "source": []
  }
 ],
 "metadata": {
  "anaconda-cloud": {},
  "kernel_info": {
   "name": "python3"
  },
  "kernelspec": {
   "name": "python385jvsc74a57bd0403a5d6a394a01ef26b2cc6b156171da77f8332ee7637ee8dac9f64c5d1c19b3",
   "display_name": "Python 3.8.5 64-bit ('base': conda)"
  },
  "language_info": {
   "codemirror_mode": {
    "name": "ipython",
    "version": 3
   },
   "file_extension": ".py",
   "mimetype": "text/x-python",
   "name": "python",
   "nbconvert_exporter": "python",
   "pygments_lexer": "ipython3",
   "version": "3.8.5"
  },
  "latex_envs": {
   "LaTeX_envs_menu_present": true,
   "autoclose": false,
   "autocomplete": true,
   "bibliofile": "biblio.bib",
   "cite_by": "apalike",
   "current_citInitial": 1,
   "eqLabelWithNumbers": true,
   "eqNumInitial": 1,
   "hotkeys": {
    "equation": "Ctrl-E",
    "itemize": "Ctrl-I"
   },
   "labels_anchors": false,
   "latex_user_defs": false,
   "report_style_numbering": false,
   "user_envs_cfg": false
  },
  "nteract": {
   "version": "0.8.4"
  }
 },
 "nbformat": 4,
 "nbformat_minor": 1
}