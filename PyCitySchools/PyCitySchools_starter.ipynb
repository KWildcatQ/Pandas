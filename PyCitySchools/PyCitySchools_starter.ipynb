{
 "cells": [
  {
   "cell_type": "markdown",
   "metadata": {},
   "source": [
    "### Note\n",
    "* Instructions have been included for each segment. You do not have to follow them exactly, but they are included to help you think through the steps."
   ]
  },
  {
   "cell_type": "code",
   "execution_count": 3,
   "metadata": {},
   "outputs": [
    {
     "output_type": "execute_result",
     "data": {
      "text/plain": [
       "       Student ID       student_name gender grade         school_name  \\\n",
       "0               0       Paul Bradley      M   9th   Huang High School   \n",
       "1               1       Victor Smith      M  12th   Huang High School   \n",
       "2               2    Kevin Rodriguez      M  12th   Huang High School   \n",
       "3               3  Dr. Richard Scott      M  12th   Huang High School   \n",
       "4               4         Bonnie Ray      F   9th   Huang High School   \n",
       "...           ...                ...    ...   ...                 ...   \n",
       "39165       39165       Donna Howard      F  12th  Thomas High School   \n",
       "39166       39166          Dawn Bell      F  10th  Thomas High School   \n",
       "39167       39167     Rebecca Tanner      F   9th  Thomas High School   \n",
       "39168       39168       Desiree Kidd      F  10th  Thomas High School   \n",
       "39169       39169    Carolyn Jackson      F  11th  Thomas High School   \n",
       "\n",
       "       reading_score  math_score  School ID      type  size   budget  \n",
       "0                 66          79          0  District  2917  1910635  \n",
       "1                 94          61          0  District  2917  1910635  \n",
       "2                 90          60          0  District  2917  1910635  \n",
       "3                 67          58          0  District  2917  1910635  \n",
       "4                 97          84          0  District  2917  1910635  \n",
       "...              ...         ...        ...       ...   ...      ...  \n",
       "39165             99          90         14   Charter  1635  1043130  \n",
       "39166             95          70         14   Charter  1635  1043130  \n",
       "39167             73          84         14   Charter  1635  1043130  \n",
       "39168             99          90         14   Charter  1635  1043130  \n",
       "39169             95          75         14   Charter  1635  1043130  \n",
       "\n",
       "[39170 rows x 11 columns]"
      ],
      "text/html": "<div>\n<style scoped>\n    .dataframe tbody tr th:only-of-type {\n        vertical-align: middle;\n    }\n\n    .dataframe tbody tr th {\n        vertical-align: top;\n    }\n\n    .dataframe thead th {\n        text-align: right;\n    }\n</style>\n<table border=\"1\" class=\"dataframe\">\n  <thead>\n    <tr style=\"text-align: right;\">\n      <th></th>\n      <th>Student ID</th>\n      <th>student_name</th>\n      <th>gender</th>\n      <th>grade</th>\n      <th>school_name</th>\n      <th>reading_score</th>\n      <th>math_score</th>\n      <th>School ID</th>\n      <th>type</th>\n      <th>size</th>\n      <th>budget</th>\n    </tr>\n  </thead>\n  <tbody>\n    <tr>\n      <th>0</th>\n      <td>0</td>\n      <td>Paul Bradley</td>\n      <td>M</td>\n      <td>9th</td>\n      <td>Huang High School</td>\n      <td>66</td>\n      <td>79</td>\n      <td>0</td>\n      <td>District</td>\n      <td>2917</td>\n      <td>1910635</td>\n    </tr>\n    <tr>\n      <th>1</th>\n      <td>1</td>\n      <td>Victor Smith</td>\n      <td>M</td>\n      <td>12th</td>\n      <td>Huang High School</td>\n      <td>94</td>\n      <td>61</td>\n      <td>0</td>\n      <td>District</td>\n      <td>2917</td>\n      <td>1910635</td>\n    </tr>\n    <tr>\n      <th>2</th>\n      <td>2</td>\n      <td>Kevin Rodriguez</td>\n      <td>M</td>\n      <td>12th</td>\n      <td>Huang High School</td>\n      <td>90</td>\n      <td>60</td>\n      <td>0</td>\n      <td>District</td>\n      <td>2917</td>\n      <td>1910635</td>\n    </tr>\n    <tr>\n      <th>3</th>\n      <td>3</td>\n      <td>Dr. Richard Scott</td>\n      <td>M</td>\n      <td>12th</td>\n      <td>Huang High School</td>\n      <td>67</td>\n      <td>58</td>\n      <td>0</td>\n      <td>District</td>\n      <td>2917</td>\n      <td>1910635</td>\n    </tr>\n    <tr>\n      <th>4</th>\n      <td>4</td>\n      <td>Bonnie Ray</td>\n      <td>F</td>\n      <td>9th</td>\n      <td>Huang High School</td>\n      <td>97</td>\n      <td>84</td>\n      <td>0</td>\n      <td>District</td>\n      <td>2917</td>\n      <td>1910635</td>\n    </tr>\n    <tr>\n      <th>...</th>\n      <td>...</td>\n      <td>...</td>\n      <td>...</td>\n      <td>...</td>\n      <td>...</td>\n      <td>...</td>\n      <td>...</td>\n      <td>...</td>\n      <td>...</td>\n      <td>...</td>\n      <td>...</td>\n    </tr>\n    <tr>\n      <th>39165</th>\n      <td>39165</td>\n      <td>Donna Howard</td>\n      <td>F</td>\n      <td>12th</td>\n      <td>Thomas High School</td>\n      <td>99</td>\n      <td>90</td>\n      <td>14</td>\n      <td>Charter</td>\n      <td>1635</td>\n      <td>1043130</td>\n    </tr>\n    <tr>\n      <th>39166</th>\n      <td>39166</td>\n      <td>Dawn Bell</td>\n      <td>F</td>\n      <td>10th</td>\n      <td>Thomas High School</td>\n      <td>95</td>\n      <td>70</td>\n      <td>14</td>\n      <td>Charter</td>\n      <td>1635</td>\n      <td>1043130</td>\n    </tr>\n    <tr>\n      <th>39167</th>\n      <td>39167</td>\n      <td>Rebecca Tanner</td>\n      <td>F</td>\n      <td>9th</td>\n      <td>Thomas High School</td>\n      <td>73</td>\n      <td>84</td>\n      <td>14</td>\n      <td>Charter</td>\n      <td>1635</td>\n      <td>1043130</td>\n    </tr>\n    <tr>\n      <th>39168</th>\n      <td>39168</td>\n      <td>Desiree Kidd</td>\n      <td>F</td>\n      <td>10th</td>\n      <td>Thomas High School</td>\n      <td>99</td>\n      <td>90</td>\n      <td>14</td>\n      <td>Charter</td>\n      <td>1635</td>\n      <td>1043130</td>\n    </tr>\n    <tr>\n      <th>39169</th>\n      <td>39169</td>\n      <td>Carolyn Jackson</td>\n      <td>F</td>\n      <td>11th</td>\n      <td>Thomas High School</td>\n      <td>95</td>\n      <td>75</td>\n      <td>14</td>\n      <td>Charter</td>\n      <td>1635</td>\n      <td>1043130</td>\n    </tr>\n  </tbody>\n</table>\n<p>39170 rows × 11 columns</p>\n</div>"
     },
     "metadata": {},
     "execution_count": 3
    }
   ],
   "source": [
    "# Dependencies and Setup\n",
    "\n",
    "import os\n",
    "import pandas as pd\n",
    "\n",
    "# File to Load (Remember to Change These)\n",
    "school_data_to_load = (r\"/Users/kellenquinn/Desktop/pandas-challenge/pandas-challenge/pandas-challenge/PyCitySchools/Resources/schools_complete.csv\")\n",
    "student_data_to_load = (r\"/Users/kellenquinn/Desktop/pandas-challenge/pandas-challenge/pandas-challenge/PyCitySchools/Resources/students_complete.csv\")\n",
    "\n",
    "# Read School and Student Data File and store into Pandas DataFrames\n",
    "school_data_df = pd.read_csv(school_data_to_load)\n",
    "student_data_df = pd.read_csv(student_data_to_load)\n",
    "\n",
    "\n",
    "# Combine the data into a single dataset.  \n",
    "school_data_complete_df = pd.merge(student_data_df, school_data_df, how=\"left\", on=\"school_name\")\n",
    "school_data_complete_df\n"
   ]
  },
  {
   "cell_type": "markdown",
   "metadata": {},
   "source": [
    "## District Summary\n",
    "\n",
    "* Calculate the total number of schools\n",
    "\n",
    "* Calculate the total number of students\n",
    "\n",
    "* Calculate the total budget\n",
    "\n",
    "* Calculate the average math score \n",
    "\n",
    "* Calculate the average reading score\n",
    "\n",
    "* Calculate the percentage of students with a passing math score (70 or greater)\n",
    "\n",
    "* Calculate the percentage of students with a passing reading score (70 or greater)\n",
    "\n",
    "* Calculate the percentage of students who passed math **and** reading (% Overall Passing)\n",
    "\n",
    "* Create a dataframe to hold the above results\n",
    "\n",
    "* Optional: give the displayed data cleaner formatting"
   ]
  },
  {
   "cell_type": "code",
   "execution_count": 4,
   "metadata": {},
   "outputs": [
    {
     "output_type": "stream",
     "name": "stdout",
     "text": [
      "No_of_schools: 15\n"
     ]
    }
   ],
   "source": [
    "# Total Number of Schools in District\n",
    "Schools = len(pd.unique(school_data_complete_df['school_name']))\n",
    "print(\"No_of_schools:\", Schools)          "
   ]
  },
  {
   "cell_type": "code",
   "execution_count": 5,
   "metadata": {},
   "outputs": [
    {
     "output_type": "stream",
     "name": "stdout",
     "text": [
      "No_of_students: 39170\n"
     ]
    }
   ],
   "source": [
    "# Total Number of Students in District\n",
    "Students = len(pd.unique(school_data_complete_df['Student ID']))\n",
    "print(\"No_of_students:\", Students)"
   ]
  },
  {
   "cell_type": "code",
   "execution_count": 6,
   "metadata": {},
   "outputs": [
    {
     "output_type": "stream",
     "name": "stdout",
     "text": [
      "$24649428.00\n"
     ]
    }
   ],
   "source": [
    "# Total District Budget\n",
    "TotalDistBudget=school_data_df['budget'].sum()\n",
    "print(\"${:.2f}\".format(TotalDistBudget))"
   ]
  },
  {
   "cell_type": "code",
   "execution_count": 7,
   "metadata": {},
   "outputs": [
    {
     "output_type": "stream",
     "name": "stdout",
     "text": [
      "78.99%\n"
     ]
    }
   ],
   "source": [
    "# Average Math Score\n",
    "Average_Math_Score =student_data_df['math_score'].mean()\n",
    "print(\"{:.2f}%\".format(Average_Math_Score))"
   ]
  },
  {
   "cell_type": "code",
   "execution_count": 8,
   "metadata": {},
   "outputs": [
    {
     "output_type": "stream",
     "name": "stdout",
     "text": [
      "81.88%\n"
     ]
    }
   ],
   "source": [
    " # Average Reading Score\n",
    " Average_Reading_Score = student_data_df['reading_score'].mean()\n",
    " print(\"{:.2f}%\".format(Average_Reading_Score))"
   ]
  },
  {
   "cell_type": "code",
   "execution_count": 9,
   "metadata": {},
   "outputs": [
    {
     "output_type": "stream",
     "name": "stdout",
     "text": [
      "Percent of Students Passing Math Test: 74.98%\n"
     ]
    }
   ],
   "source": [
    "# Percent Passing Math\n",
    "Percent_Pass_Math=(student_data_df['math_score']>=70).sum()\n",
    "print(\"Percent of Students Passing Math Test: {:.2f}%\".format((Percent_Pass_Math/Students)*100))"
   ]
  },
  {
   "cell_type": "code",
   "execution_count": 10,
   "metadata": {},
   "outputs": [
    {
     "output_type": "stream",
     "name": "stdout",
     "text": [
      "Percent of Students Passing Reading Test: 85.81%\n"
     ]
    }
   ],
   "source": [
    "#Percent Passing Reading\n",
    "Percent_Pass_Reading=(student_data_df['reading_score']>=70).sum()\n",
    "print(\"Percent of Students Passing Reading Test: {:.2f}%\".format((Percent_Pass_Reading/Students)*100))"
   ]
  },
  {
   "cell_type": "code",
   "execution_count": 11,
   "metadata": {},
   "outputs": [
    {
     "output_type": "stream",
     "name": "stdout",
     "text": [
      "Percent of Students Passing Both Tests: 65.17%\n"
     ]
    }
   ],
   "source": [
    "#Percent Passing Both Math and Reading\n",
    "Percent_Pass_Both=((student_data_df['math_score']>=70) & (student_data_df['reading_score']>=70)).sum()\n",
    "print(\"Percent of Students Passing Both Tests: {:.2f}%\".format((Percent_Pass_Both/Students)*100))"
   ]
  },
  {
   "cell_type": "code",
   "execution_count": 12,
   "metadata": {},
   "outputs": [
    {
     "output_type": "execute_result",
     "data": {
      "text/plain": [
       "   Schools  Students     Budget Avg Math Score Passing Math Avg Reading Score  \\\n",
       "0       15     39170  $24649428         78.99%       74.98%            81.88%   \n",
       "\n",
       "  Passing Reading % Passing Both  \n",
       "0          85.81%         65.17%  "
      ],
      "text/html": "<div>\n<style scoped>\n    .dataframe tbody tr th:only-of-type {\n        vertical-align: middle;\n    }\n\n    .dataframe tbody tr th {\n        vertical-align: top;\n    }\n\n    .dataframe thead th {\n        text-align: right;\n    }\n</style>\n<table border=\"1\" class=\"dataframe\">\n  <thead>\n    <tr style=\"text-align: right;\">\n      <th></th>\n      <th>Schools</th>\n      <th>Students</th>\n      <th>Budget</th>\n      <th>Avg Math Score</th>\n      <th>Passing Math</th>\n      <th>Avg Reading Score</th>\n      <th>Passing Reading</th>\n      <th>% Passing Both</th>\n    </tr>\n  </thead>\n  <tbody>\n    <tr>\n      <th>0</th>\n      <td>15</td>\n      <td>39170</td>\n      <td>$24649428</td>\n      <td>78.99%</td>\n      <td>74.98%</td>\n      <td>81.88%</td>\n      <td>85.81%</td>\n      <td>65.17%</td>\n    </tr>\n  </tbody>\n</table>\n</div>"
     },
     "metadata": {},
     "execution_count": 12
    }
   ],
   "source": [
    "#District Data Overview Table\n",
    "District_Data = {'Schools':[Schools], 'Students': [Students],'Budget':[TotalDistBudget],'Avg Math Score':[Average_Math_Score], 'Passing Math':['74.98%'], 'Avg Reading Score': [Average_Reading_Score], 'Passing Reading':['85.81%'], '% Passing Both':['65.17%']}\n",
    "df=pd.DataFrame(District_Data)\n",
    "df[\"Avg Math Score\"]=df[\"Avg Math Score\"].map(\"{:.2f}%\".format)\n",
    "df[\"Avg Reading Score\"]=df[\"Avg Reading Score\"].map(\"{:.2f}%\".format)\n",
    "df[\"Budget\"]=df[\"Budget\"].map(\"${:.0f}\".format)\n",
    "df.head()"
   ]
  },
  {
   "cell_type": "markdown",
   "metadata": {},
   "source": [
    "* Create an overview table that summarizes key metrics about each school, including:\n",
    "  * School Name\n",
    "  * School Type\n",
    "  * Total Students\n",
    "  * Total School Budget\n",
    "  * Per Student Budget\n",
    "  * Average Math Score\n",
    "  * Average Reading Score\n",
    "  * % Passing Math\n",
    "  * % Passing Reading\n",
    "  * % Overall Passing (The percentage of students that passed math **and** reading.)\n",
    "  \n",
    "* Create a dataframe to hold the above results"
   ]
  },
  {
   "cell_type": "code",
   "execution_count": 13,
   "metadata": {},
   "outputs": [
    {
     "output_type": "execute_result",
     "data": {
      "text/plain": [
       "0         Huang High School\n",
       "1      Figueroa High School\n",
       "2       Shelton High School\n",
       "3     Hernandez High School\n",
       "4       Griffin High School\n",
       "5        Wilson High School\n",
       "6       Cabrera High School\n",
       "7        Bailey High School\n",
       "8        Holden High School\n",
       "9          Pena High School\n",
       "10       Wright High School\n",
       "11    Rodriguez High School\n",
       "12      Johnson High School\n",
       "13         Ford High School\n",
       "14       Thomas High School\n",
       "Name: school_name, dtype: object"
      ]
     },
     "metadata": {},
     "execution_count": 13
    }
   ],
   "source": [
    "#Groupby of School Names\n",
    "\n",
    "by_school = school_data_df['school_name']\n",
    "by_school"
   ]
  },
  {
   "cell_type": "code",
   "execution_count": 14,
   "metadata": {},
   "outputs": [
    {
     "output_type": "execute_result",
     "data": {
      "text/plain": [
       "school_name\n",
       "Huang High School        District\n",
       "Figueroa High School     District\n",
       "Shelton High School       Charter\n",
       "Hernandez High School    District\n",
       "Griffin High School       Charter\n",
       "Wilson High School        Charter\n",
       "Cabrera High School       Charter\n",
       "Bailey High School       District\n",
       "Holden High School        Charter\n",
       "Pena High School          Charter\n",
       "Wright High School        Charter\n",
       "Rodriguez High School    District\n",
       "Johnson High School      District\n",
       "Ford High School         District\n",
       "Thomas High School        Charter\n",
       "Name: type, dtype: object"
      ]
     },
     "metadata": {},
     "execution_count": 14
    }
   ],
   "source": [
    "#Groubpy of School Types\n",
    "School_type = school_data_df.set_index([\"school_name\"])[\"type\"]\n",
    "School_type"
   ]
  },
  {
   "cell_type": "code",
   "execution_count": 15,
   "metadata": {},
   "outputs": [
    {
     "output_type": "execute_result",
     "data": {
      "text/plain": [
       "school_name\n",
       "Bailey High School       $3124928\n",
       "Cabrera High School      $1081356\n",
       "Figueroa High School     $1884411\n",
       "Ford High School         $1763916\n",
       "Griffin High School       $917500\n",
       "Hernandez High School    $3022020\n",
       "Holden High School        $248087\n",
       "Huang High School        $1910635\n",
       "Johnson High School      $3094650\n",
       "Pena High School          $585858\n",
       "Rodriguez High School    $2547363\n",
       "Shelton High School      $1056600\n",
       "Thomas High School       $1043130\n",
       "Wilson High School       $1319574\n",
       "Wright High School       $1049400\n",
       "Name: budget, dtype: object"
      ]
     },
     "metadata": {},
     "execution_count": 15
    }
   ],
   "source": [
    "# Groupby of Merged Data\n",
    "Budget_Per_School=school_data_complete_df.groupby(\"school_name\").mean()[\"budget\"]\n",
    "Budget_Per_School.map(\"${:.0f}\".format)"
   ]
  },
  {
   "cell_type": "code",
   "execution_count": 16,
   "metadata": {},
   "outputs": [
    {
     "output_type": "execute_result",
     "data": {
      "text/plain": [
       "Bailey High School       $628\n",
       "Cabrera High School      $582\n",
       "Figueroa High School     $639\n",
       "Ford High School         $644\n",
       "Griffin High School      $625\n",
       "Hernandez High School    $652\n",
       "Holden High School       $581\n",
       "Huang High School        $655\n",
       "Johnson High School      $650\n",
       "Pena High School         $609\n",
       "Rodriguez High School    $637\n",
       "Shelton High School      $600\n",
       "Thomas High School       $638\n",
       "Wilson High School       $578\n",
       "Wright High School       $583\n",
       "dtype: object"
      ]
     },
     "metadata": {},
     "execution_count": 16
    }
   ],
   "source": [
    "# Average Budget Per Student\n",
    "Budget_Per_School=school_data_complete_df.groupby(\"school_name\").mean()[\"budget\"]\n",
    "Average__budget_per_student=Budget_Per_School/school_data_complete_df[\"school_name\"].value_counts()\n",
    "Average__budget_per_student.map(\"${:.0f}\".format)"
   ]
  },
  {
   "cell_type": "code",
   "execution_count": 17,
   "metadata": {},
   "outputs": [
    {
     "output_type": "execute_result",
     "data": {
      "text/plain": [
       "school_name\n",
       "Bailey High School       81.03%\n",
       "Cabrera High School      83.98%\n",
       "Figueroa High School     81.16%\n",
       "Ford High School         80.75%\n",
       "Griffin High School      83.82%\n",
       "Hernandez High School    80.93%\n",
       "Holden High School       83.81%\n",
       "Huang High School        81.18%\n",
       "Johnson High School      80.97%\n",
       "Pena High School         84.04%\n",
       "Rodriguez High School    80.74%\n",
       "Shelton High School      83.73%\n",
       "Thomas High School       83.85%\n",
       "Wilson High School       83.99%\n",
       "Wright High School       83.95%\n",
       "Name: reading_score, dtype: object"
      ]
     },
     "metadata": {},
     "execution_count": 17
    }
   ],
   "source": [
    "# Average Reading Score Per Student\n",
    "Average_reading_score_perschool=school_data_complete_df.groupby(\"school_name\").mean()[\"reading_score\"]\n",
    "Average_reading_score_perschool.map(\"{:.2f}%\".format)"
   ]
  },
  {
   "cell_type": "code",
   "execution_count": 18,
   "metadata": {},
   "outputs": [
    {
     "output_type": "execute_result",
     "data": {
      "text/plain": [
       "Bailey High School       81.93%\n",
       "Cabrera High School      97.04%\n",
       "Figueroa High School     80.74%\n",
       "Ford High School         79.30%\n",
       "Griffin High School      97.14%\n",
       "Hernandez High School    80.86%\n",
       "Holden High School       96.25%\n",
       "Huang High School        81.32%\n",
       "Johnson High School      81.22%\n",
       "Pena High School         95.95%\n",
       "Rodriguez High School    80.22%\n",
       "Shelton High School      95.85%\n",
       "Thomas High School       97.31%\n",
       "Wilson High School       96.54%\n",
       "Wright High School       96.61%\n",
       "dtype: object"
      ]
     },
     "metadata": {},
     "execution_count": 18
    }
   ],
   "source": [
    "# Average Percent Passing Reading Per School\n",
    "School_passing_reading=school_data_complete_df[(school_data_complete_df['reading_score']>=70)]\n",
    "\n",
    "# Calculate Passing Rate\n",
    "Average_reading_per_school=School_passing_reading.groupby([\"school_name\"]).count()[\"student_name\"]/school_data_complete_df[\"school_name\"].value_counts()*100\n",
    "Average_reading_per_school.map(\"{:.2f}%\".format)\n"
   ]
  },
  {
   "cell_type": "code",
   "execution_count": 19,
   "metadata": {},
   "outputs": [
    {
     "output_type": "execute_result",
     "data": {
      "text/plain": [
       "school_name\n",
       "Bailey High School       77.05%\n",
       "Cabrera High School      83.06%\n",
       "Figueroa High School     76.71%\n",
       "Ford High School         77.10%\n",
       "Griffin High School      83.35%\n",
       "Hernandez High School    77.29%\n",
       "Holden High School       83.80%\n",
       "Huang High School        76.63%\n",
       "Johnson High School      77.07%\n",
       "Pena High School         83.84%\n",
       "Rodriguez High School    76.84%\n",
       "Shelton High School      83.36%\n",
       "Thomas High School       83.42%\n",
       "Wilson High School       83.27%\n",
       "Wright High School       83.68%\n",
       "Name: math_score, dtype: object"
      ]
     },
     "metadata": {},
     "execution_count": 19
    }
   ],
   "source": [
    "# Average Math Score Per Student\n",
    "Average_Math_Score_PerSchool=school_data_complete_df.groupby(\"school_name\").mean()[\"math_score\"]\n",
    "Average_Math_Score_PerSchool.map(\"{:.2f}%\".format)"
   ]
  },
  {
   "cell_type": "code",
   "execution_count": 20,
   "metadata": {},
   "outputs": [
    {
     "output_type": "execute_result",
     "data": {
      "text/plain": [
       "Bailey High School       66.68%\n",
       "Cabrera High School      94.13%\n",
       "Figueroa High School     65.99%\n",
       "Ford High School         68.31%\n",
       "Griffin High School      93.39%\n",
       "Hernandez High School    66.75%\n",
       "Holden High School       92.51%\n",
       "Huang High School        65.68%\n",
       "Johnson High School      66.06%\n",
       "Pena High School         94.59%\n",
       "Rodriguez High School    66.37%\n",
       "Shelton High School      93.87%\n",
       "Thomas High School       93.27%\n",
       "Wilson High School       93.87%\n",
       "Wright High School       93.33%\n",
       "dtype: object"
      ]
     },
     "metadata": {},
     "execution_count": 20
    }
   ],
   "source": [
    "# Average Percent Passing Math Per School\n",
    "School_passing_math=school_data_complete_df[(school_data_complete_df['math_score']>=70)]\n",
    "\n",
    "# Calculate Passing Rate\n",
    "Average_math_per_school=School_passing_math.groupby([\"school_name\"]).count()[\"student_name\"]/school_data_complete_df[\"school_name\"].value_counts()*100\n",
    "Average_math_per_school.map(\"{:.2f}%\".format)\n"
   ]
  },
  {
   "cell_type": "code",
   "execution_count": 21,
   "metadata": {},
   "outputs": [
    {
     "output_type": "execute_result",
     "data": {
      "text/plain": [
       "Bailey High School       54.64%\n",
       "Cabrera High School      91.33%\n",
       "Figueroa High School     53.20%\n",
       "Ford High School         54.29%\n",
       "Griffin High School      90.60%\n",
       "Hernandez High School    53.53%\n",
       "Holden High School       89.23%\n",
       "Huang High School        53.51%\n",
       "Johnson High School      53.54%\n",
       "Pena High School         90.54%\n",
       "Rodriguez High School    52.99%\n",
       "Shelton High School      89.89%\n",
       "Thomas High School       90.95%\n",
       "Wilson High School       90.58%\n",
       "Wright High School       90.33%\n",
       "dtype: object"
      ]
     },
     "metadata": {},
     "execution_count": 21
    }
   ],
   "source": [
    "# Average Percent Passing Math and Reading Per School\n",
    "School_passing_both=school_data_complete_df[(school_data_complete_df['math_score']>=70)&(school_data_complete_df['reading_score']>=70)]\n",
    "\n",
    "# Calculate Passing Rate\n",
    "Average_both_per_school=School_passing_both.groupby([\"school_name\"]).count()[\"student_name\"]/school_data_complete_df[\"school_name\"].value_counts()*100\n",
    "Average_both_per_school.map(\"{:.2f}%\".format)\n"
   ]
  },
  {
   "cell_type": "code",
   "execution_count": 22,
   "metadata": {},
   "outputs": [
    {
     "output_type": "execute_result",
     "data": {
      "text/plain": [
       "school_name\n",
       "Bailey High School       4976\n",
       "Cabrera High School      1858\n",
       "Figueroa High School     2949\n",
       "Ford High School         2739\n",
       "Griffin High School      1468\n",
       "Hernandez High School    4635\n",
       "Holden High School        427\n",
       "Huang High School        2917\n",
       "Johnson High School      4761\n",
       "Pena High School          962\n",
       "Rodriguez High School    3999\n",
       "Shelton High School      1761\n",
       "Thomas High School       1635\n",
       "Wilson High School       2283\n",
       "Wright High School       1800\n",
       "Name: size, dtype: int64"
      ]
     },
     "metadata": {},
     "execution_count": 22
    }
   ],
   "source": [
    "#Population of Each School\n",
    "Population=school_data_complete_df.groupby(\"school_name\").count()[\"size\"]\n",
    "Population"
   ]
  },
  {
   "cell_type": "code",
   "execution_count": 23,
   "metadata": {},
   "outputs": [
    {
     "output_type": "execute_result",
     "data": {
      "text/plain": [
       "                      School Type  Total Students Total School Budget  \\\n",
       "Bailey High School       District            4976         $3124928.00   \n",
       "Cabrera High School       Charter            1858         $1081356.00   \n",
       "Figueroa High School     District            2949         $1884411.00   \n",
       "Ford High School         District            2739         $1763916.00   \n",
       "Griffin High School       Charter            1468          $917500.00   \n",
       "Hernandez High School    District            4635         $3022020.00   \n",
       "Holden High School        Charter             427          $248087.00   \n",
       "Huang High School        District            2917         $1910635.00   \n",
       "Johnson High School      District            4761         $3094650.00   \n",
       "Pena High School          Charter             962          $585858.00   \n",
       "Rodriguez High School    District            3999         $2547363.00   \n",
       "Shelton High School       Charter            1761         $1056600.00   \n",
       "Thomas High School        Charter            1635         $1043130.00   \n",
       "Wilson High School        Charter            2283         $1319574.00   \n",
       "Wright High School        Charter            1800         $1049400.00   \n",
       "\n",
       "                      Per Student Budget Average Math Score  \\\n",
       "Bailey High School               $628.00             77.05%   \n",
       "Cabrera High School              $582.00             83.06%   \n",
       "Figueroa High School             $639.00             76.71%   \n",
       "Ford High School                 $644.00             77.10%   \n",
       "Griffin High School              $625.00             83.35%   \n",
       "Hernandez High School            $652.00             77.29%   \n",
       "Holden High School               $581.00             83.80%   \n",
       "Huang High School                $655.00             76.63%   \n",
       "Johnson High School              $650.00             77.07%   \n",
       "Pena High School                 $609.00             83.84%   \n",
       "Rodriguez High School            $637.00             76.84%   \n",
       "Shelton High School              $600.00             83.36%   \n",
       "Thomas High School               $638.00             83.42%   \n",
       "Wilson High School               $578.00             83.27%   \n",
       "Wright High School               $583.00             83.68%   \n",
       "\n",
       "                      Average Reading Score % Passing Math % Passing Reading  \\\n",
       "Bailey High School                   81.03%         66.68%            81.93%   \n",
       "Cabrera High School                  83.98%         94.13%            97.04%   \n",
       "Figueroa High School                 81.16%         65.99%            80.74%   \n",
       "Ford High School                     80.75%         68.31%            79.30%   \n",
       "Griffin High School                  83.82%         93.39%            97.14%   \n",
       "Hernandez High School                80.93%         66.75%            80.86%   \n",
       "Holden High School                   83.81%         92.51%            96.25%   \n",
       "Huang High School                    81.18%         65.68%            81.32%   \n",
       "Johnson High School                  80.97%         66.06%            81.22%   \n",
       "Pena High School                     84.04%         94.59%            95.95%   \n",
       "Rodriguez High School                80.74%         66.37%            80.22%   \n",
       "Shelton High School                  83.73%         93.87%            95.85%   \n",
       "Thomas High School                   83.85%         93.27%            97.31%   \n",
       "Wilson High School                   83.99%         93.87%            96.54%   \n",
       "Wright High School                   83.95%         93.33%            96.61%   \n",
       "\n",
       "                      % Passing Both  \n",
       "Bailey High School            54.64%  \n",
       "Cabrera High School           91.33%  \n",
       "Figueroa High School          53.20%  \n",
       "Ford High School              54.29%  \n",
       "Griffin High School           90.60%  \n",
       "Hernandez High School         53.53%  \n",
       "Holden High School            89.23%  \n",
       "Huang High School             53.51%  \n",
       "Johnson High School           53.54%  \n",
       "Pena High School              90.54%  \n",
       "Rodriguez High School         52.99%  \n",
       "Shelton High School           89.89%  \n",
       "Thomas High School            90.95%  \n",
       "Wilson High School            90.58%  \n",
       "Wright High School            90.33%  "
      ],
      "text/html": "<div>\n<style scoped>\n    .dataframe tbody tr th:only-of-type {\n        vertical-align: middle;\n    }\n\n    .dataframe tbody tr th {\n        vertical-align: top;\n    }\n\n    .dataframe thead th {\n        text-align: right;\n    }\n</style>\n<table border=\"1\" class=\"dataframe\">\n  <thead>\n    <tr style=\"text-align: right;\">\n      <th></th>\n      <th>School Type</th>\n      <th>Total Students</th>\n      <th>Total School Budget</th>\n      <th>Per Student Budget</th>\n      <th>Average Math Score</th>\n      <th>Average Reading Score</th>\n      <th>% Passing Math</th>\n      <th>% Passing Reading</th>\n      <th>% Passing Both</th>\n    </tr>\n  </thead>\n  <tbody>\n    <tr>\n      <th>Bailey High School</th>\n      <td>District</td>\n      <td>4976</td>\n      <td>$3124928.00</td>\n      <td>$628.00</td>\n      <td>77.05%</td>\n      <td>81.03%</td>\n      <td>66.68%</td>\n      <td>81.93%</td>\n      <td>54.64%</td>\n    </tr>\n    <tr>\n      <th>Cabrera High School</th>\n      <td>Charter</td>\n      <td>1858</td>\n      <td>$1081356.00</td>\n      <td>$582.00</td>\n      <td>83.06%</td>\n      <td>83.98%</td>\n      <td>94.13%</td>\n      <td>97.04%</td>\n      <td>91.33%</td>\n    </tr>\n    <tr>\n      <th>Figueroa High School</th>\n      <td>District</td>\n      <td>2949</td>\n      <td>$1884411.00</td>\n      <td>$639.00</td>\n      <td>76.71%</td>\n      <td>81.16%</td>\n      <td>65.99%</td>\n      <td>80.74%</td>\n      <td>53.20%</td>\n    </tr>\n    <tr>\n      <th>Ford High School</th>\n      <td>District</td>\n      <td>2739</td>\n      <td>$1763916.00</td>\n      <td>$644.00</td>\n      <td>77.10%</td>\n      <td>80.75%</td>\n      <td>68.31%</td>\n      <td>79.30%</td>\n      <td>54.29%</td>\n    </tr>\n    <tr>\n      <th>Griffin High School</th>\n      <td>Charter</td>\n      <td>1468</td>\n      <td>$917500.00</td>\n      <td>$625.00</td>\n      <td>83.35%</td>\n      <td>83.82%</td>\n      <td>93.39%</td>\n      <td>97.14%</td>\n      <td>90.60%</td>\n    </tr>\n    <tr>\n      <th>Hernandez High School</th>\n      <td>District</td>\n      <td>4635</td>\n      <td>$3022020.00</td>\n      <td>$652.00</td>\n      <td>77.29%</td>\n      <td>80.93%</td>\n      <td>66.75%</td>\n      <td>80.86%</td>\n      <td>53.53%</td>\n    </tr>\n    <tr>\n      <th>Holden High School</th>\n      <td>Charter</td>\n      <td>427</td>\n      <td>$248087.00</td>\n      <td>$581.00</td>\n      <td>83.80%</td>\n      <td>83.81%</td>\n      <td>92.51%</td>\n      <td>96.25%</td>\n      <td>89.23%</td>\n    </tr>\n    <tr>\n      <th>Huang High School</th>\n      <td>District</td>\n      <td>2917</td>\n      <td>$1910635.00</td>\n      <td>$655.00</td>\n      <td>76.63%</td>\n      <td>81.18%</td>\n      <td>65.68%</td>\n      <td>81.32%</td>\n      <td>53.51%</td>\n    </tr>\n    <tr>\n      <th>Johnson High School</th>\n      <td>District</td>\n      <td>4761</td>\n      <td>$3094650.00</td>\n      <td>$650.00</td>\n      <td>77.07%</td>\n      <td>80.97%</td>\n      <td>66.06%</td>\n      <td>81.22%</td>\n      <td>53.54%</td>\n    </tr>\n    <tr>\n      <th>Pena High School</th>\n      <td>Charter</td>\n      <td>962</td>\n      <td>$585858.00</td>\n      <td>$609.00</td>\n      <td>83.84%</td>\n      <td>84.04%</td>\n      <td>94.59%</td>\n      <td>95.95%</td>\n      <td>90.54%</td>\n    </tr>\n    <tr>\n      <th>Rodriguez High School</th>\n      <td>District</td>\n      <td>3999</td>\n      <td>$2547363.00</td>\n      <td>$637.00</td>\n      <td>76.84%</td>\n      <td>80.74%</td>\n      <td>66.37%</td>\n      <td>80.22%</td>\n      <td>52.99%</td>\n    </tr>\n    <tr>\n      <th>Shelton High School</th>\n      <td>Charter</td>\n      <td>1761</td>\n      <td>$1056600.00</td>\n      <td>$600.00</td>\n      <td>83.36%</td>\n      <td>83.73%</td>\n      <td>93.87%</td>\n      <td>95.85%</td>\n      <td>89.89%</td>\n    </tr>\n    <tr>\n      <th>Thomas High School</th>\n      <td>Charter</td>\n      <td>1635</td>\n      <td>$1043130.00</td>\n      <td>$638.00</td>\n      <td>83.42%</td>\n      <td>83.85%</td>\n      <td>93.27%</td>\n      <td>97.31%</td>\n      <td>90.95%</td>\n    </tr>\n    <tr>\n      <th>Wilson High School</th>\n      <td>Charter</td>\n      <td>2283</td>\n      <td>$1319574.00</td>\n      <td>$578.00</td>\n      <td>83.27%</td>\n      <td>83.99%</td>\n      <td>93.87%</td>\n      <td>96.54%</td>\n      <td>90.58%</td>\n    </tr>\n    <tr>\n      <th>Wright High School</th>\n      <td>Charter</td>\n      <td>1800</td>\n      <td>$1049400.00</td>\n      <td>$583.00</td>\n      <td>83.68%</td>\n      <td>83.95%</td>\n      <td>93.33%</td>\n      <td>96.61%</td>\n      <td>90.33%</td>\n    </tr>\n  </tbody>\n</table>\n</div>"
     },
     "metadata": {},
     "execution_count": 23
    }
   ],
   "source": [
    "#Schools Overview Table\n",
    "\n",
    "School_Overview={'School Type': School_type, 'Total Students':Population, 'Total School Budget':Budget_Per_School.map(\"${:.2f}\".format), 'Per Student Budget':Average__budget_per_student.map(\"${:.2f}\".format), 'Average Math Score': Average_Math_Score_PerSchool.map(\"{:.2f}%\".format), 'Average Reading Score': Average_reading_score_perschool.map(\"{:.2f}%\".format), '% Passing Math':Average_math_per_school.map(\"{:.2f}%\".format), '% Passing Reading': Average_reading_per_school.map(\"{:.2f}%\".format), '% Passing Both': Average_both_per_school.map(\"{:.2f}%\".format)}\n",
    "School_Overview_df=pd.DataFrame(School_Overview)\n",
    "School_Overview_df"
   ]
  },
  {
   "cell_type": "markdown",
   "metadata": {},
   "source": [
    "* Sort and display the top five performing schools by % overall passing."
   ]
  },
  {
   "cell_type": "code",
   "execution_count": 24,
   "metadata": {},
   "outputs": [
    {
     "output_type": "execute_result",
     "data": {
      "text/plain": [
       "                    School Type  Total Students Total School Budget  \\\n",
       "Cabrera High School     Charter            1858         $1081356.00   \n",
       "Thomas High School      Charter            1635         $1043130.00   \n",
       "Griffin High School     Charter            1468          $917500.00   \n",
       "Wilson High School      Charter            2283         $1319574.00   \n",
       "Pena High School        Charter             962          $585858.00   \n",
       "\n",
       "                    Per Student Budget Average Math Score  \\\n",
       "Cabrera High School            $582.00             83.06%   \n",
       "Thomas High School             $638.00             83.42%   \n",
       "Griffin High School            $625.00             83.35%   \n",
       "Wilson High School             $578.00             83.27%   \n",
       "Pena High School               $609.00             83.84%   \n",
       "\n",
       "                    Average Reading Score % Passing Math % Passing Reading  \\\n",
       "Cabrera High School                83.98%         94.13%            97.04%   \n",
       "Thomas High School                 83.85%         93.27%            97.31%   \n",
       "Griffin High School                83.82%         93.39%            97.14%   \n",
       "Wilson High School                 83.99%         93.87%            96.54%   \n",
       "Pena High School                   84.04%         94.59%            95.95%   \n",
       "\n",
       "                    % Passing Both  \n",
       "Cabrera High School         91.33%  \n",
       "Thomas High School          90.95%  \n",
       "Griffin High School         90.60%  \n",
       "Wilson High School          90.58%  \n",
       "Pena High School            90.54%  "
      ],
      "text/html": "<div>\n<style scoped>\n    .dataframe tbody tr th:only-of-type {\n        vertical-align: middle;\n    }\n\n    .dataframe tbody tr th {\n        vertical-align: top;\n    }\n\n    .dataframe thead th {\n        text-align: right;\n    }\n</style>\n<table border=\"1\" class=\"dataframe\">\n  <thead>\n    <tr style=\"text-align: right;\">\n      <th></th>\n      <th>School Type</th>\n      <th>Total Students</th>\n      <th>Total School Budget</th>\n      <th>Per Student Budget</th>\n      <th>Average Math Score</th>\n      <th>Average Reading Score</th>\n      <th>% Passing Math</th>\n      <th>% Passing Reading</th>\n      <th>% Passing Both</th>\n    </tr>\n  </thead>\n  <tbody>\n    <tr>\n      <th>Cabrera High School</th>\n      <td>Charter</td>\n      <td>1858</td>\n      <td>$1081356.00</td>\n      <td>$582.00</td>\n      <td>83.06%</td>\n      <td>83.98%</td>\n      <td>94.13%</td>\n      <td>97.04%</td>\n      <td>91.33%</td>\n    </tr>\n    <tr>\n      <th>Thomas High School</th>\n      <td>Charter</td>\n      <td>1635</td>\n      <td>$1043130.00</td>\n      <td>$638.00</td>\n      <td>83.42%</td>\n      <td>83.85%</td>\n      <td>93.27%</td>\n      <td>97.31%</td>\n      <td>90.95%</td>\n    </tr>\n    <tr>\n      <th>Griffin High School</th>\n      <td>Charter</td>\n      <td>1468</td>\n      <td>$917500.00</td>\n      <td>$625.00</td>\n      <td>83.35%</td>\n      <td>83.82%</td>\n      <td>93.39%</td>\n      <td>97.14%</td>\n      <td>90.60%</td>\n    </tr>\n    <tr>\n      <th>Wilson High School</th>\n      <td>Charter</td>\n      <td>2283</td>\n      <td>$1319574.00</td>\n      <td>$578.00</td>\n      <td>83.27%</td>\n      <td>83.99%</td>\n      <td>93.87%</td>\n      <td>96.54%</td>\n      <td>90.58%</td>\n    </tr>\n    <tr>\n      <th>Pena High School</th>\n      <td>Charter</td>\n      <td>962</td>\n      <td>$585858.00</td>\n      <td>$609.00</td>\n      <td>83.84%</td>\n      <td>84.04%</td>\n      <td>94.59%</td>\n      <td>95.95%</td>\n      <td>90.54%</td>\n    </tr>\n  </tbody>\n</table>\n</div>"
     },
     "metadata": {},
     "execution_count": 24
    }
   ],
   "source": [
    "# Top 5 Performing Schools\n",
    "Top_Schools=School_Overview_df.sort_values([\"% Passing Both\"], ascending=False)\n",
    "Top_Schools.head(5)\n",
    "\n"
   ]
  },
  {
   "cell_type": "markdown",
   "metadata": {},
   "source": [
    "## Bottom Performing Schools (By % Overall Passing)"
   ]
  },
  {
   "cell_type": "markdown",
   "metadata": {},
   "source": [
    "* Sort and display the five worst-performing schools by % overall passing."
   ]
  },
  {
   "cell_type": "code",
   "execution_count": 25,
   "metadata": {},
   "outputs": [
    {
     "output_type": "execute_result",
     "data": {
      "text/plain": [
       "                      School Type  Total Students Total School Budget  \\\n",
       "Rodriguez High School    District            3999         $2547363.00   \n",
       "Figueroa High School     District            2949         $1884411.00   \n",
       "Huang High School        District            2917         $1910635.00   \n",
       "Hernandez High School    District            4635         $3022020.00   \n",
       "Johnson High School      District            4761         $3094650.00   \n",
       "\n",
       "                      Per Student Budget Average Math Score  \\\n",
       "Rodriguez High School            $637.00             76.84%   \n",
       "Figueroa High School             $639.00             76.71%   \n",
       "Huang High School                $655.00             76.63%   \n",
       "Hernandez High School            $652.00             77.29%   \n",
       "Johnson High School              $650.00             77.07%   \n",
       "\n",
       "                      Average Reading Score % Passing Math % Passing Reading  \\\n",
       "Rodriguez High School                80.74%         66.37%            80.22%   \n",
       "Figueroa High School                 81.16%         65.99%            80.74%   \n",
       "Huang High School                    81.18%         65.68%            81.32%   \n",
       "Hernandez High School                80.93%         66.75%            80.86%   \n",
       "Johnson High School                  80.97%         66.06%            81.22%   \n",
       "\n",
       "                      % Passing Both  \n",
       "Rodriguez High School         52.99%  \n",
       "Figueroa High School          53.20%  \n",
       "Huang High School             53.51%  \n",
       "Hernandez High School         53.53%  \n",
       "Johnson High School           53.54%  "
      ],
      "text/html": "<div>\n<style scoped>\n    .dataframe tbody tr th:only-of-type {\n        vertical-align: middle;\n    }\n\n    .dataframe tbody tr th {\n        vertical-align: top;\n    }\n\n    .dataframe thead th {\n        text-align: right;\n    }\n</style>\n<table border=\"1\" class=\"dataframe\">\n  <thead>\n    <tr style=\"text-align: right;\">\n      <th></th>\n      <th>School Type</th>\n      <th>Total Students</th>\n      <th>Total School Budget</th>\n      <th>Per Student Budget</th>\n      <th>Average Math Score</th>\n      <th>Average Reading Score</th>\n      <th>% Passing Math</th>\n      <th>% Passing Reading</th>\n      <th>% Passing Both</th>\n    </tr>\n  </thead>\n  <tbody>\n    <tr>\n      <th>Rodriguez High School</th>\n      <td>District</td>\n      <td>3999</td>\n      <td>$2547363.00</td>\n      <td>$637.00</td>\n      <td>76.84%</td>\n      <td>80.74%</td>\n      <td>66.37%</td>\n      <td>80.22%</td>\n      <td>52.99%</td>\n    </tr>\n    <tr>\n      <th>Figueroa High School</th>\n      <td>District</td>\n      <td>2949</td>\n      <td>$1884411.00</td>\n      <td>$639.00</td>\n      <td>76.71%</td>\n      <td>81.16%</td>\n      <td>65.99%</td>\n      <td>80.74%</td>\n      <td>53.20%</td>\n    </tr>\n    <tr>\n      <th>Huang High School</th>\n      <td>District</td>\n      <td>2917</td>\n      <td>$1910635.00</td>\n      <td>$655.00</td>\n      <td>76.63%</td>\n      <td>81.18%</td>\n      <td>65.68%</td>\n      <td>81.32%</td>\n      <td>53.51%</td>\n    </tr>\n    <tr>\n      <th>Hernandez High School</th>\n      <td>District</td>\n      <td>4635</td>\n      <td>$3022020.00</td>\n      <td>$652.00</td>\n      <td>77.29%</td>\n      <td>80.93%</td>\n      <td>66.75%</td>\n      <td>80.86%</td>\n      <td>53.53%</td>\n    </tr>\n    <tr>\n      <th>Johnson High School</th>\n      <td>District</td>\n      <td>4761</td>\n      <td>$3094650.00</td>\n      <td>$650.00</td>\n      <td>77.07%</td>\n      <td>80.97%</td>\n      <td>66.06%</td>\n      <td>81.22%</td>\n      <td>53.54%</td>\n    </tr>\n  </tbody>\n</table>\n</div>"
     },
     "metadata": {},
     "execution_count": 25
    }
   ],
   "source": [
    "# Bottom 5 Performing Schools\n",
    "Bottom_Schools=School_Overview_df.sort_values([\"% Passing Both\"], ascending=True)\n",
    "Bottom_Schools.head(5)"
   ]
  },
  {
   "cell_type": "markdown",
   "metadata": {
    "collapsed": true
   },
   "source": [
    "## Math Scores by Grade"
   ]
  },
  {
   "cell_type": "code",
   "execution_count": 26,
   "metadata": {},
   "outputs": [
    {
     "output_type": "execute_result",
     "data": {
      "text/plain": [
       "school_name\n",
       "Bailey High School       77.08%\n",
       "Cabrera High School      83.09%\n",
       "Figueroa High School     76.40%\n",
       "Ford High School         77.36%\n",
       "Griffin High School      82.04%\n",
       "Hernandez High School    77.44%\n",
       "Holden High School       83.79%\n",
       "Huang High School        77.03%\n",
       "Johnson High School      77.19%\n",
       "Pena High School         83.63%\n",
       "Rodriguez High School    76.86%\n",
       "Shelton High School      83.42%\n",
       "Thomas High School       83.59%\n",
       "Wilson High School       83.09%\n",
       "Wright High School       83.26%\n",
       "Name: math_score, dtype: object"
      ]
     },
     "metadata": {},
     "execution_count": 26
    }
   ],
   "source": [
    "# 9th Grade\n",
    "\n",
    "grade_nine=school_data_complete_df[(school_data_complete_df[\"grade\"] == \"9th\")]\n",
    "grade_nine\n",
    "\n",
    "Nine_Math_Score_PerSchool=grade_nine.groupby([\"school_name\"]).mean()[\"math_score\"]\n",
    "Nine_Math_Score_PerSchool.map(\"{:.2f}%\".format)"
   ]
  },
  {
   "cell_type": "code",
   "execution_count": 27,
   "metadata": {},
   "outputs": [
    {
     "output_type": "execute_result",
     "data": {
      "text/plain": [
       "school_name\n",
       "Bailey High School       77.00%\n",
       "Cabrera High School      83.15%\n",
       "Figueroa High School     76.54%\n",
       "Ford High School         77.67%\n",
       "Griffin High School      84.23%\n",
       "Hernandez High School    77.34%\n",
       "Holden High School       83.43%\n",
       "Huang High School        75.91%\n",
       "Johnson High School      76.69%\n",
       "Pena High School         83.37%\n",
       "Rodriguez High School    76.61%\n",
       "Shelton High School      82.92%\n",
       "Thomas High School       83.09%\n",
       "Wilson High School       83.72%\n",
       "Wright High School       84.01%\n",
       "Name: math_score, dtype: object"
      ]
     },
     "metadata": {},
     "execution_count": 27
    }
   ],
   "source": [
    "#10th Grade\n",
    "\n",
    "grade_tenth=school_data_complete_df[(school_data_complete_df[\"grade\"] == \"10th\")]\n",
    "grade_tenth\n",
    "\n",
    "Tenth_Math_Score_PerSchool=grade_tenth.groupby([\"school_name\"]).mean()[\"math_score\"]\n",
    "Tenth_Math_Score_PerSchool.map(\"{:.2f}%\".format)"
   ]
  },
  {
   "cell_type": "code",
   "execution_count": 28,
   "metadata": {},
   "outputs": [
    {
     "output_type": "execute_result",
     "data": {
      "text/plain": [
       "school_name\n",
       "Bailey High School       77.52%\n",
       "Cabrera High School      82.77%\n",
       "Figueroa High School     76.88%\n",
       "Ford High School         76.92%\n",
       "Griffin High School      83.84%\n",
       "Hernandez High School    77.14%\n",
       "Holden High School       85.00%\n",
       "Huang High School        76.45%\n",
       "Johnson High School      77.49%\n",
       "Pena High School         84.33%\n",
       "Rodriguez High School    76.40%\n",
       "Shelton High School      83.38%\n",
       "Thomas High School       83.50%\n",
       "Wilson High School       83.20%\n",
       "Wright High School       83.84%\n",
       "Name: math_score, dtype: object"
      ]
     },
     "metadata": {},
     "execution_count": 28
    }
   ],
   "source": [
    "#11th Grade\n",
    "\n",
    "grade_eleventh = school_data_complete_df[(school_data_complete_df[\"grade\"] == \"11th\")]\n",
    "grade_eleventh\n",
    "\n",
    "Eleventh_Math_Score_PerSchool=grade_eleventh.groupby([\"school_name\"]).mean()[\"math_score\"]\n",
    "Eleventh_Math_Score_PerSchool.map(\"{:.2f}%\".format)"
   ]
  },
  {
   "cell_type": "code",
   "execution_count": 29,
   "metadata": {},
   "outputs": [
    {
     "output_type": "execute_result",
     "data": {
      "text/plain": [
       "school_name\n",
       "Bailey High School       76.49%\n",
       "Cabrera High School      83.28%\n",
       "Figueroa High School     77.15%\n",
       "Ford High School         76.18%\n",
       "Griffin High School      83.36%\n",
       "Hernandez High School    77.19%\n",
       "Holden High School       82.86%\n",
       "Huang High School        77.23%\n",
       "Johnson High School      76.86%\n",
       "Pena High School         84.12%\n",
       "Rodriguez High School    77.69%\n",
       "Shelton High School      83.78%\n",
       "Thomas High School       83.50%\n",
       "Wilson High School       83.04%\n",
       "Wright High School       83.64%\n",
       "Name: math_score, dtype: object"
      ]
     },
     "metadata": {},
     "execution_count": 29
    }
   ],
   "source": [
    "#12th Grade\n",
    "grade_twelfth = school_data_complete_df[(school_data_complete_df[\"grade\"] == \"12th\")]\n",
    "grade_twelfth\n",
    "\n",
    "Twelfth_Math_Score_PerSchool=grade_twelfth.groupby([\"school_name\"]).mean()[\"math_score\"]\n",
    "Twelfth_Math_Score_PerSchool.map(\"{:.2f}%\".format)"
   ]
  },
  {
   "cell_type": "code",
   "execution_count": 30,
   "metadata": {},
   "outputs": [
    {
     "output_type": "execute_result",
     "data": {
      "text/plain": [
       "                      9th Grade 10th Grade 11th Grade 12th Grade\n",
       "school_name                                                     \n",
       "Bailey High School       77.08%     77.00%     77.52%     76.49%\n",
       "Cabrera High School      83.09%     83.15%     82.77%     83.28%\n",
       "Figueroa High School     76.40%     76.54%     76.88%     77.15%\n",
       "Ford High School         77.36%     77.67%     76.92%     76.18%\n",
       "Griffin High School      82.04%     84.23%     83.84%     83.36%\n",
       "Hernandez High School    77.44%     77.34%     77.14%     77.19%\n",
       "Holden High School       83.79%     83.43%     85.00%     82.86%\n",
       "Huang High School        77.03%     75.91%     76.45%     77.23%\n",
       "Johnson High School      77.19%     76.69%     77.49%     76.86%\n",
       "Pena High School         83.63%     83.37%     84.33%     84.12%\n",
       "Rodriguez High School    76.86%     76.61%     76.40%     77.69%\n",
       "Shelton High School      83.42%     82.92%     83.38%     83.78%\n",
       "Thomas High School       83.59%     83.09%     83.50%     83.50%\n",
       "Wilson High School       83.09%     83.72%     83.20%     83.04%\n",
       "Wright High School       83.26%     84.01%     83.84%     83.64%"
      ],
      "text/html": "<div>\n<style scoped>\n    .dataframe tbody tr th:only-of-type {\n        vertical-align: middle;\n    }\n\n    .dataframe tbody tr th {\n        vertical-align: top;\n    }\n\n    .dataframe thead th {\n        text-align: right;\n    }\n</style>\n<table border=\"1\" class=\"dataframe\">\n  <thead>\n    <tr style=\"text-align: right;\">\n      <th></th>\n      <th>9th Grade</th>\n      <th>10th Grade</th>\n      <th>11th Grade</th>\n      <th>12th Grade</th>\n    </tr>\n    <tr>\n      <th>school_name</th>\n      <th></th>\n      <th></th>\n      <th></th>\n      <th></th>\n    </tr>\n  </thead>\n  <tbody>\n    <tr>\n      <th>Bailey High School</th>\n      <td>77.08%</td>\n      <td>77.00%</td>\n      <td>77.52%</td>\n      <td>76.49%</td>\n    </tr>\n    <tr>\n      <th>Cabrera High School</th>\n      <td>83.09%</td>\n      <td>83.15%</td>\n      <td>82.77%</td>\n      <td>83.28%</td>\n    </tr>\n    <tr>\n      <th>Figueroa High School</th>\n      <td>76.40%</td>\n      <td>76.54%</td>\n      <td>76.88%</td>\n      <td>77.15%</td>\n    </tr>\n    <tr>\n      <th>Ford High School</th>\n      <td>77.36%</td>\n      <td>77.67%</td>\n      <td>76.92%</td>\n      <td>76.18%</td>\n    </tr>\n    <tr>\n      <th>Griffin High School</th>\n      <td>82.04%</td>\n      <td>84.23%</td>\n      <td>83.84%</td>\n      <td>83.36%</td>\n    </tr>\n    <tr>\n      <th>Hernandez High School</th>\n      <td>77.44%</td>\n      <td>77.34%</td>\n      <td>77.14%</td>\n      <td>77.19%</td>\n    </tr>\n    <tr>\n      <th>Holden High School</th>\n      <td>83.79%</td>\n      <td>83.43%</td>\n      <td>85.00%</td>\n      <td>82.86%</td>\n    </tr>\n    <tr>\n      <th>Huang High School</th>\n      <td>77.03%</td>\n      <td>75.91%</td>\n      <td>76.45%</td>\n      <td>77.23%</td>\n    </tr>\n    <tr>\n      <th>Johnson High School</th>\n      <td>77.19%</td>\n      <td>76.69%</td>\n      <td>77.49%</td>\n      <td>76.86%</td>\n    </tr>\n    <tr>\n      <th>Pena High School</th>\n      <td>83.63%</td>\n      <td>83.37%</td>\n      <td>84.33%</td>\n      <td>84.12%</td>\n    </tr>\n    <tr>\n      <th>Rodriguez High School</th>\n      <td>76.86%</td>\n      <td>76.61%</td>\n      <td>76.40%</td>\n      <td>77.69%</td>\n    </tr>\n    <tr>\n      <th>Shelton High School</th>\n      <td>83.42%</td>\n      <td>82.92%</td>\n      <td>83.38%</td>\n      <td>83.78%</td>\n    </tr>\n    <tr>\n      <th>Thomas High School</th>\n      <td>83.59%</td>\n      <td>83.09%</td>\n      <td>83.50%</td>\n      <td>83.50%</td>\n    </tr>\n    <tr>\n      <th>Wilson High School</th>\n      <td>83.09%</td>\n      <td>83.72%</td>\n      <td>83.20%</td>\n      <td>83.04%</td>\n    </tr>\n    <tr>\n      <th>Wright High School</th>\n      <td>83.26%</td>\n      <td>84.01%</td>\n      <td>83.84%</td>\n      <td>83.64%</td>\n    </tr>\n  </tbody>\n</table>\n</div>"
     },
     "metadata": {},
     "execution_count": 30
    }
   ],
   "source": [
    "#Math Scores by Grade and School\n",
    "\n",
    "Math_Score_by_Grade={'9th Grade': Nine_Math_Score_PerSchool.map(\"{:.2f}%\".format), '10th Grade': Tenth_Math_Score_PerSchool.map(\"{:.2f}%\".format), '11th Grade': Eleventh_Math_Score_PerSchool.map(\"{:.2f}%\".format), '12th Grade': Twelfth_Math_Score_PerSchool.map(\"{:.2f}%\".format)}\n",
    "\n",
    "Math_Score_byGrade=pd.DataFrame(Math_Score_by_Grade)\n",
    "Math_Score_byGrade\n"
   ]
  },
  {
   "cell_type": "markdown",
   "metadata": {},
   "source": [
    "## Reading Score by Grade "
   ]
  },
  {
   "cell_type": "code",
   "execution_count": 31,
   "metadata": {},
   "outputs": [
    {
     "output_type": "execute_result",
     "data": {
      "text/plain": [
       "school_name\n",
       "Bailey High School       81.30%\n",
       "Cabrera High School      83.68%\n",
       "Figueroa High School     81.20%\n",
       "Ford High School         80.63%\n",
       "Griffin High School      83.37%\n",
       "Hernandez High School    80.87%\n",
       "Holden High School       83.68%\n",
       "Huang High School        81.29%\n",
       "Johnson High School      81.26%\n",
       "Pena High School         83.81%\n",
       "Rodriguez High School    80.99%\n",
       "Shelton High School      84.12%\n",
       "Thomas High School       83.73%\n",
       "Wilson High School       83.94%\n",
       "Wright High School       83.83%\n",
       "Name: reading_score, dtype: object"
      ]
     },
     "metadata": {},
     "execution_count": 31
    }
   ],
   "source": [
    "#9th Grade Reading\n",
    "Nine_Reading_Score_PerSchool=grade_nine.groupby([\"school_name\"]).mean()[\"reading_score\"]\n",
    "Nine_Reading_Score_PerSchool.map(\"{:.2f}%\".format)"
   ]
  },
  {
   "cell_type": "code",
   "execution_count": 32,
   "metadata": {},
   "outputs": [
    {
     "output_type": "execute_result",
     "data": {
      "text/plain": [
       "school_name\n",
       "Bailey High School       80.91%\n",
       "Cabrera High School      84.25%\n",
       "Figueroa High School     81.41%\n",
       "Ford High School         81.26%\n",
       "Griffin High School      83.71%\n",
       "Hernandez High School    80.66%\n",
       "Holden High School       83.32%\n",
       "Huang High School        81.51%\n",
       "Johnson High School      80.77%\n",
       "Pena High School         83.61%\n",
       "Rodriguez High School    80.63%\n",
       "Shelton High School      83.44%\n",
       "Thomas High School       84.25%\n",
       "Wilson High School       84.02%\n",
       "Wright High School       83.81%\n",
       "Name: reading_score, dtype: object"
      ]
     },
     "metadata": {},
     "execution_count": 32
    }
   ],
   "source": [
    "#10th Grade Reading\n",
    "Tenth_Reading_Score_PerSchool=grade_tenth.groupby([\"school_name\"]).mean()[\"reading_score\"]\n",
    "Tenth_Reading_Score_PerSchool.map(\"{:.2f}%\".format)"
   ]
  },
  {
   "cell_type": "code",
   "execution_count": 33,
   "metadata": {},
   "outputs": [
    {
     "output_type": "execute_result",
     "data": {
      "text/plain": [
       "school_name\n",
       "Bailey High School       80.95%\n",
       "Cabrera High School      83.79%\n",
       "Figueroa High School     80.64%\n",
       "Ford High School         80.40%\n",
       "Griffin High School      84.29%\n",
       "Hernandez High School    81.40%\n",
       "Holden High School       83.82%\n",
       "Huang High School        81.42%\n",
       "Johnson High School      80.62%\n",
       "Pena High School         84.34%\n",
       "Rodriguez High School    80.86%\n",
       "Shelton High School      84.37%\n",
       "Thomas High School       83.59%\n",
       "Wilson High School       83.76%\n",
       "Wright High School       84.16%\n",
       "Name: reading_score, dtype: object"
      ]
     },
     "metadata": {},
     "execution_count": 33
    }
   ],
   "source": [
    "#11th Grade Reading\n",
    "Eleventh_Reading_Score_PerSchool=grade_eleventh.groupby([\"school_name\"]).mean()[\"reading_score\"]\n",
    "Eleventh_Reading_Score_PerSchool.map(\"{:.2f}%\".format)"
   ]
  },
  {
   "cell_type": "code",
   "execution_count": 34,
   "metadata": {},
   "outputs": [
    {
     "output_type": "execute_result",
     "data": {
      "text/plain": [
       "school_name\n",
       "Bailey High School       80.91%\n",
       "Cabrera High School      84.29%\n",
       "Figueroa High School     81.38%\n",
       "Ford High School         80.66%\n",
       "Griffin High School      84.01%\n",
       "Hernandez High School    80.86%\n",
       "Holden High School       84.70%\n",
       "Huang High School        80.31%\n",
       "Johnson High School      81.23%\n",
       "Pena High School         84.59%\n",
       "Rodriguez High School    80.38%\n",
       "Shelton High School      82.78%\n",
       "Thomas High School       83.83%\n",
       "Wilson High School       84.32%\n",
       "Wright High School       84.07%\n",
       "Name: reading_score, dtype: object"
      ]
     },
     "metadata": {},
     "execution_count": 34
    }
   ],
   "source": [
    "#12th Grade Reading\n",
    "Twelfth_Reading_Score_PerSchool=grade_twelfth.groupby([\"school_name\"]).mean()[\"reading_score\"]\n",
    "Twelfth_Reading_Score_PerSchool.map(\"{:.2f}%\".format)"
   ]
  },
  {
   "cell_type": "code",
   "execution_count": 35,
   "metadata": {},
   "outputs": [
    {
     "output_type": "execute_result",
     "data": {
      "text/plain": [
       "                      9th Grade 10th Grade 11th Grade 12th Grade\n",
       "school_name                                                     \n",
       "Bailey High School       81.30%     80.91%     80.95%     80.91%\n",
       "Cabrera High School      83.68%     84.25%     83.79%     84.29%\n",
       "Figueroa High School     81.20%     81.41%     80.64%     81.38%\n",
       "Ford High School         80.63%     81.26%     80.40%     80.66%\n",
       "Griffin High School      83.37%     83.71%     84.29%     84.01%\n",
       "Hernandez High School    80.87%     80.66%     81.40%     80.86%\n",
       "Holden High School       83.68%     83.32%     83.82%     84.70%\n",
       "Huang High School        81.29%     81.51%     81.42%     80.31%\n",
       "Johnson High School      81.26%     80.77%     80.62%     81.23%\n",
       "Pena High School         83.81%     83.61%     84.34%     84.59%\n",
       "Rodriguez High School    80.99%     80.63%     80.86%     80.38%\n",
       "Shelton High School      84.12%     83.44%     84.37%     82.78%\n",
       "Thomas High School       83.73%     84.25%     83.59%     83.83%\n",
       "Wilson High School       83.94%     84.02%     83.76%     84.32%\n",
       "Wright High School       83.83%     83.81%     84.16%     84.07%"
      ],
      "text/html": "<div>\n<style scoped>\n    .dataframe tbody tr th:only-of-type {\n        vertical-align: middle;\n    }\n\n    .dataframe tbody tr th {\n        vertical-align: top;\n    }\n\n    .dataframe thead th {\n        text-align: right;\n    }\n</style>\n<table border=\"1\" class=\"dataframe\">\n  <thead>\n    <tr style=\"text-align: right;\">\n      <th></th>\n      <th>9th Grade</th>\n      <th>10th Grade</th>\n      <th>11th Grade</th>\n      <th>12th Grade</th>\n    </tr>\n    <tr>\n      <th>school_name</th>\n      <th></th>\n      <th></th>\n      <th></th>\n      <th></th>\n    </tr>\n  </thead>\n  <tbody>\n    <tr>\n      <th>Bailey High School</th>\n      <td>81.30%</td>\n      <td>80.91%</td>\n      <td>80.95%</td>\n      <td>80.91%</td>\n    </tr>\n    <tr>\n      <th>Cabrera High School</th>\n      <td>83.68%</td>\n      <td>84.25%</td>\n      <td>83.79%</td>\n      <td>84.29%</td>\n    </tr>\n    <tr>\n      <th>Figueroa High School</th>\n      <td>81.20%</td>\n      <td>81.41%</td>\n      <td>80.64%</td>\n      <td>81.38%</td>\n    </tr>\n    <tr>\n      <th>Ford High School</th>\n      <td>80.63%</td>\n      <td>81.26%</td>\n      <td>80.40%</td>\n      <td>80.66%</td>\n    </tr>\n    <tr>\n      <th>Griffin High School</th>\n      <td>83.37%</td>\n      <td>83.71%</td>\n      <td>84.29%</td>\n      <td>84.01%</td>\n    </tr>\n    <tr>\n      <th>Hernandez High School</th>\n      <td>80.87%</td>\n      <td>80.66%</td>\n      <td>81.40%</td>\n      <td>80.86%</td>\n    </tr>\n    <tr>\n      <th>Holden High School</th>\n      <td>83.68%</td>\n      <td>83.32%</td>\n      <td>83.82%</td>\n      <td>84.70%</td>\n    </tr>\n    <tr>\n      <th>Huang High School</th>\n      <td>81.29%</td>\n      <td>81.51%</td>\n      <td>81.42%</td>\n      <td>80.31%</td>\n    </tr>\n    <tr>\n      <th>Johnson High School</th>\n      <td>81.26%</td>\n      <td>80.77%</td>\n      <td>80.62%</td>\n      <td>81.23%</td>\n    </tr>\n    <tr>\n      <th>Pena High School</th>\n      <td>83.81%</td>\n      <td>83.61%</td>\n      <td>84.34%</td>\n      <td>84.59%</td>\n    </tr>\n    <tr>\n      <th>Rodriguez High School</th>\n      <td>80.99%</td>\n      <td>80.63%</td>\n      <td>80.86%</td>\n      <td>80.38%</td>\n    </tr>\n    <tr>\n      <th>Shelton High School</th>\n      <td>84.12%</td>\n      <td>83.44%</td>\n      <td>84.37%</td>\n      <td>82.78%</td>\n    </tr>\n    <tr>\n      <th>Thomas High School</th>\n      <td>83.73%</td>\n      <td>84.25%</td>\n      <td>83.59%</td>\n      <td>83.83%</td>\n    </tr>\n    <tr>\n      <th>Wilson High School</th>\n      <td>83.94%</td>\n      <td>84.02%</td>\n      <td>83.76%</td>\n      <td>84.32%</td>\n    </tr>\n    <tr>\n      <th>Wright High School</th>\n      <td>83.83%</td>\n      <td>83.81%</td>\n      <td>84.16%</td>\n      <td>84.07%</td>\n    </tr>\n  </tbody>\n</table>\n</div>"
     },
     "metadata": {},
     "execution_count": 35
    }
   ],
   "source": [
    "# Reading Scores by Grade and School\n",
    "Reading_Score_by_Grade={'9th Grade': Nine_Reading_Score_PerSchool.map(\"{:.2f}%\".format), '10th Grade': Tenth_Reading_Score_PerSchool.map(\"{:.2f}%\".format), '11th Grade': Eleventh_Reading_Score_PerSchool.map(\"{:.2f}%\".format), '12th Grade': Twelfth_Reading_Score_PerSchool.map(\"{:.2f}%\".format)}\n",
    "\n",
    "Reading_Score_byGrade=pd.DataFrame(Reading_Score_by_Grade)\n",
    "Reading_Score_byGrade"
   ]
  },
  {
   "cell_type": "markdown",
   "metadata": {},
   "source": [
    "## Scores by School Spending"
   ]
  },
  {
   "cell_type": "markdown",
   "metadata": {},
   "source": [
    "* Create a table that breaks down school performances based on average Spending Ranges (Per Student). Use 4 reasonable bins to group school spending. Include in the table each of the following:\n",
    "  * Average Math Score\n",
    "  * Average Reading Score\n",
    "  * % Passing Math\n",
    "  * % Passing Reading\n",
    "  * Overall Passing Rate (Average of the above two)"
   ]
  },
  {
   "cell_type": "code",
   "execution_count": 36,
   "metadata": {},
   "outputs": [
    {
     "output_type": "execute_result",
     "data": {
      "text/plain": [
       "                      School Type  Total Students Total School Budget  \\\n",
       "Bailey High School       District            4976         $3124928.00   \n",
       "Cabrera High School       Charter            1858         $1081356.00   \n",
       "Figueroa High School     District            2949         $1884411.00   \n",
       "Ford High School         District            2739         $1763916.00   \n",
       "Griffin High School       Charter            1468          $917500.00   \n",
       "Hernandez High School    District            4635         $3022020.00   \n",
       "Holden High School        Charter             427          $248087.00   \n",
       "Huang High School        District            2917         $1910635.00   \n",
       "Johnson High School      District            4761         $3094650.00   \n",
       "Pena High School          Charter             962          $585858.00   \n",
       "Rodriguez High School    District            3999         $2547363.00   \n",
       "Shelton High School       Charter            1761         $1056600.00   \n",
       "Thomas High School        Charter            1635         $1043130.00   \n",
       "Wilson High School        Charter            2283         $1319574.00   \n",
       "Wright High School        Charter            1800         $1049400.00   \n",
       "\n",
       "                      Per Student Budget Average Math Score  \\\n",
       "Bailey High School               $628.00             77.05%   \n",
       "Cabrera High School              $582.00             83.06%   \n",
       "Figueroa High School             $639.00             76.71%   \n",
       "Ford High School                 $644.00             77.10%   \n",
       "Griffin High School              $625.00             83.35%   \n",
       "Hernandez High School            $652.00             77.29%   \n",
       "Holden High School               $581.00             83.80%   \n",
       "Huang High School                $655.00             76.63%   \n",
       "Johnson High School              $650.00             77.07%   \n",
       "Pena High School                 $609.00             83.84%   \n",
       "Rodriguez High School            $637.00             76.84%   \n",
       "Shelton High School              $600.00             83.36%   \n",
       "Thomas High School               $638.00             83.42%   \n",
       "Wilson High School               $578.00             83.27%   \n",
       "Wright High School               $583.00             83.68%   \n",
       "\n",
       "                      Average Reading Score % Passing Math % Passing Reading  \\\n",
       "Bailey High School                   81.03%         66.68%            81.93%   \n",
       "Cabrera High School                  83.98%         94.13%            97.04%   \n",
       "Figueroa High School                 81.16%         65.99%            80.74%   \n",
       "Ford High School                     80.75%         68.31%            79.30%   \n",
       "Griffin High School                  83.82%         93.39%            97.14%   \n",
       "Hernandez High School                80.93%         66.75%            80.86%   \n",
       "Holden High School                   83.81%         92.51%            96.25%   \n",
       "Huang High School                    81.18%         65.68%            81.32%   \n",
       "Johnson High School                  80.97%         66.06%            81.22%   \n",
       "Pena High School                     84.04%         94.59%            95.95%   \n",
       "Rodriguez High School                80.74%         66.37%            80.22%   \n",
       "Shelton High School                  83.73%         93.87%            95.85%   \n",
       "Thomas High School                   83.85%         93.27%            97.31%   \n",
       "Wilson High School                   83.99%         93.87%            96.54%   \n",
       "Wright High School                   83.95%         93.33%            96.61%   \n",
       "\n",
       "                      % Passing Both Spending Range (Per Student)  \n",
       "Bailey High School            54.64%                    $600-$630  \n",
       "Cabrera High School           91.33%                     $570-600  \n",
       "Figueroa High School          53.20%                     $630-660  \n",
       "Ford High School              54.29%                     $630-660  \n",
       "Griffin High School           90.60%                    $600-$630  \n",
       "Hernandez High School         53.53%                     $630-660  \n",
       "Holden High School            89.23%                     $570-600  \n",
       "Huang High School             53.51%                     $630-660  \n",
       "Johnson High School           53.54%                     $630-660  \n",
       "Pena High School              90.54%                    $600-$630  \n",
       "Rodriguez High School         52.99%                     $630-660  \n",
       "Shelton High School           89.89%                     $570-600  \n",
       "Thomas High School            90.95%                     $630-660  \n",
       "Wilson High School            90.58%                     $570-600  \n",
       "Wright High School            90.33%                     $570-600  "
      ],
      "text/html": "<div>\n<style scoped>\n    .dataframe tbody tr th:only-of-type {\n        vertical-align: middle;\n    }\n\n    .dataframe tbody tr th {\n        vertical-align: top;\n    }\n\n    .dataframe thead th {\n        text-align: right;\n    }\n</style>\n<table border=\"1\" class=\"dataframe\">\n  <thead>\n    <tr style=\"text-align: right;\">\n      <th></th>\n      <th>School Type</th>\n      <th>Total Students</th>\n      <th>Total School Budget</th>\n      <th>Per Student Budget</th>\n      <th>Average Math Score</th>\n      <th>Average Reading Score</th>\n      <th>% Passing Math</th>\n      <th>% Passing Reading</th>\n      <th>% Passing Both</th>\n      <th>Spending Range (Per Student)</th>\n    </tr>\n  </thead>\n  <tbody>\n    <tr>\n      <th>Bailey High School</th>\n      <td>District</td>\n      <td>4976</td>\n      <td>$3124928.00</td>\n      <td>$628.00</td>\n      <td>77.05%</td>\n      <td>81.03%</td>\n      <td>66.68%</td>\n      <td>81.93%</td>\n      <td>54.64%</td>\n      <td>$600-$630</td>\n    </tr>\n    <tr>\n      <th>Cabrera High School</th>\n      <td>Charter</td>\n      <td>1858</td>\n      <td>$1081356.00</td>\n      <td>$582.00</td>\n      <td>83.06%</td>\n      <td>83.98%</td>\n      <td>94.13%</td>\n      <td>97.04%</td>\n      <td>91.33%</td>\n      <td>$570-600</td>\n    </tr>\n    <tr>\n      <th>Figueroa High School</th>\n      <td>District</td>\n      <td>2949</td>\n      <td>$1884411.00</td>\n      <td>$639.00</td>\n      <td>76.71%</td>\n      <td>81.16%</td>\n      <td>65.99%</td>\n      <td>80.74%</td>\n      <td>53.20%</td>\n      <td>$630-660</td>\n    </tr>\n    <tr>\n      <th>Ford High School</th>\n      <td>District</td>\n      <td>2739</td>\n      <td>$1763916.00</td>\n      <td>$644.00</td>\n      <td>77.10%</td>\n      <td>80.75%</td>\n      <td>68.31%</td>\n      <td>79.30%</td>\n      <td>54.29%</td>\n      <td>$630-660</td>\n    </tr>\n    <tr>\n      <th>Griffin High School</th>\n      <td>Charter</td>\n      <td>1468</td>\n      <td>$917500.00</td>\n      <td>$625.00</td>\n      <td>83.35%</td>\n      <td>83.82%</td>\n      <td>93.39%</td>\n      <td>97.14%</td>\n      <td>90.60%</td>\n      <td>$600-$630</td>\n    </tr>\n    <tr>\n      <th>Hernandez High School</th>\n      <td>District</td>\n      <td>4635</td>\n      <td>$3022020.00</td>\n      <td>$652.00</td>\n      <td>77.29%</td>\n      <td>80.93%</td>\n      <td>66.75%</td>\n      <td>80.86%</td>\n      <td>53.53%</td>\n      <td>$630-660</td>\n    </tr>\n    <tr>\n      <th>Holden High School</th>\n      <td>Charter</td>\n      <td>427</td>\n      <td>$248087.00</td>\n      <td>$581.00</td>\n      <td>83.80%</td>\n      <td>83.81%</td>\n      <td>92.51%</td>\n      <td>96.25%</td>\n      <td>89.23%</td>\n      <td>$570-600</td>\n    </tr>\n    <tr>\n      <th>Huang High School</th>\n      <td>District</td>\n      <td>2917</td>\n      <td>$1910635.00</td>\n      <td>$655.00</td>\n      <td>76.63%</td>\n      <td>81.18%</td>\n      <td>65.68%</td>\n      <td>81.32%</td>\n      <td>53.51%</td>\n      <td>$630-660</td>\n    </tr>\n    <tr>\n      <th>Johnson High School</th>\n      <td>District</td>\n      <td>4761</td>\n      <td>$3094650.00</td>\n      <td>$650.00</td>\n      <td>77.07%</td>\n      <td>80.97%</td>\n      <td>66.06%</td>\n      <td>81.22%</td>\n      <td>53.54%</td>\n      <td>$630-660</td>\n    </tr>\n    <tr>\n      <th>Pena High School</th>\n      <td>Charter</td>\n      <td>962</td>\n      <td>$585858.00</td>\n      <td>$609.00</td>\n      <td>83.84%</td>\n      <td>84.04%</td>\n      <td>94.59%</td>\n      <td>95.95%</td>\n      <td>90.54%</td>\n      <td>$600-$630</td>\n    </tr>\n    <tr>\n      <th>Rodriguez High School</th>\n      <td>District</td>\n      <td>3999</td>\n      <td>$2547363.00</td>\n      <td>$637.00</td>\n      <td>76.84%</td>\n      <td>80.74%</td>\n      <td>66.37%</td>\n      <td>80.22%</td>\n      <td>52.99%</td>\n      <td>$630-660</td>\n    </tr>\n    <tr>\n      <th>Shelton High School</th>\n      <td>Charter</td>\n      <td>1761</td>\n      <td>$1056600.00</td>\n      <td>$600.00</td>\n      <td>83.36%</td>\n      <td>83.73%</td>\n      <td>93.87%</td>\n      <td>95.85%</td>\n      <td>89.89%</td>\n      <td>$570-600</td>\n    </tr>\n    <tr>\n      <th>Thomas High School</th>\n      <td>Charter</td>\n      <td>1635</td>\n      <td>$1043130.00</td>\n      <td>$638.00</td>\n      <td>83.42%</td>\n      <td>83.85%</td>\n      <td>93.27%</td>\n      <td>97.31%</td>\n      <td>90.95%</td>\n      <td>$630-660</td>\n    </tr>\n    <tr>\n      <th>Wilson High School</th>\n      <td>Charter</td>\n      <td>2283</td>\n      <td>$1319574.00</td>\n      <td>$578.00</td>\n      <td>83.27%</td>\n      <td>83.99%</td>\n      <td>93.87%</td>\n      <td>96.54%</td>\n      <td>90.58%</td>\n      <td>$570-600</td>\n    </tr>\n    <tr>\n      <th>Wright High School</th>\n      <td>Charter</td>\n      <td>1800</td>\n      <td>$1049400.00</td>\n      <td>$583.00</td>\n      <td>83.68%</td>\n      <td>83.95%</td>\n      <td>93.33%</td>\n      <td>96.61%</td>\n      <td>90.33%</td>\n      <td>$570-600</td>\n    </tr>\n  </tbody>\n</table>\n</div>"
     },
     "metadata": {},
     "execution_count": 36
    }
   ],
   "source": [
    "#Scores by School Spending\n",
    "bins=[0, 570, 600, 630, 660]\n",
    "\n",
    "#Bin Names\n",
    "bins_labels=[\"<$570\", \"$570-600\",\"$600-$630\", \"$630-660\"] \n",
    "\n",
    "School_Overview_df[\"Spending Range (Per Student)\"]=pd.cut(Average__budget_per_student, bins, labels=bins_labels, include_lowest=True)\n",
    "School_Overview_df.head(15)\n"
   ]
  },
  {
   "cell_type": "markdown",
   "metadata": {},
   "source": [
    "## Scores by School Size"
   ]
  },
  {
   "cell_type": "markdown",
   "metadata": {},
   "source": [
    "* Perform the same operations as above, based on school size."
   ]
  },
  {
   "cell_type": "code",
   "execution_count": 54,
   "metadata": {
    "scrolled": true
   },
   "outputs": [
    {
     "output_type": "execute_result",
     "data": {
      "text/plain": [
       "                      School Type  Total Students Total School Budget  \\\n",
       "Bailey High School       District            4976         $3124928.00   \n",
       "Cabrera High School       Charter            1858         $1081356.00   \n",
       "Figueroa High School     District            2949         $1884411.00   \n",
       "Ford High School         District            2739         $1763916.00   \n",
       "Griffin High School       Charter            1468          $917500.00   \n",
       "Hernandez High School    District            4635         $3022020.00   \n",
       "Holden High School        Charter             427          $248087.00   \n",
       "Huang High School        District            2917         $1910635.00   \n",
       "Johnson High School      District            4761         $3094650.00   \n",
       "Pena High School          Charter             962          $585858.00   \n",
       "Rodriguez High School    District            3999         $2547363.00   \n",
       "Shelton High School       Charter            1761         $1056600.00   \n",
       "Thomas High School        Charter            1635         $1043130.00   \n",
       "Wilson High School        Charter            2283         $1319574.00   \n",
       "Wright High School        Charter            1800         $1049400.00   \n",
       "\n",
       "                      Per Student Budget Average Math Score  \\\n",
       "Bailey High School               $628.00             77.05%   \n",
       "Cabrera High School              $582.00             83.06%   \n",
       "Figueroa High School             $639.00             76.71%   \n",
       "Ford High School                 $644.00             77.10%   \n",
       "Griffin High School              $625.00             83.35%   \n",
       "Hernandez High School            $652.00             77.29%   \n",
       "Holden High School               $581.00             83.80%   \n",
       "Huang High School                $655.00             76.63%   \n",
       "Johnson High School              $650.00             77.07%   \n",
       "Pena High School                 $609.00             83.84%   \n",
       "Rodriguez High School            $637.00             76.84%   \n",
       "Shelton High School              $600.00             83.36%   \n",
       "Thomas High School               $638.00             83.42%   \n",
       "Wilson High School               $578.00             83.27%   \n",
       "Wright High School               $583.00             83.68%   \n",
       "\n",
       "                      Average Reading Score % Passing Math % Passing Reading  \\\n",
       "Bailey High School                   81.03%         66.68%            81.93%   \n",
       "Cabrera High School                  83.98%         94.13%            97.04%   \n",
       "Figueroa High School                 81.16%         65.99%            80.74%   \n",
       "Ford High School                     80.75%         68.31%            79.30%   \n",
       "Griffin High School                  83.82%         93.39%            97.14%   \n",
       "Hernandez High School                80.93%         66.75%            80.86%   \n",
       "Holden High School                   83.81%         92.51%            96.25%   \n",
       "Huang High School                    81.18%         65.68%            81.32%   \n",
       "Johnson High School                  80.97%         66.06%            81.22%   \n",
       "Pena High School                     84.04%         94.59%            95.95%   \n",
       "Rodriguez High School                80.74%         66.37%            80.22%   \n",
       "Shelton High School                  83.73%         93.87%            95.85%   \n",
       "Thomas High School                   83.85%         93.27%            97.31%   \n",
       "Wilson High School                   83.99%         93.87%            96.54%   \n",
       "Wright High School                   83.95%         93.33%            96.61%   \n",
       "\n",
       "                      % Passing Both Spending Range (Per Student)  \\\n",
       "Bailey High School            54.64%                    $600-$630   \n",
       "Cabrera High School           91.33%                     $570-600   \n",
       "Figueroa High School          53.20%                     $630-660   \n",
       "Ford High School              54.29%                     $630-660   \n",
       "Griffin High School           90.60%                    $600-$630   \n",
       "Hernandez High School         53.53%                     $630-660   \n",
       "Holden High School            89.23%                     $570-600   \n",
       "Huang High School             53.51%                     $630-660   \n",
       "Johnson High School           53.54%                     $630-660   \n",
       "Pena High School              90.54%                    $600-$630   \n",
       "Rodriguez High School         52.99%                     $630-660   \n",
       "Shelton High School           89.89%                     $570-600   \n",
       "Thomas High School            90.95%                     $630-660   \n",
       "Wilson High School            90.58%                     $570-600   \n",
       "Wright High School            90.33%                     $570-600   \n",
       "\n",
       "                      Scores by School Size  \n",
       "Bailey High School          3600-5400 Large  \n",
       "Cabrera High School        1800-3600 Medium  \n",
       "Figueroa High School       1800-3600 Medium  \n",
       "Ford High School           1800-3600 Medium  \n",
       "Griffin High School             <1300 Small  \n",
       "Hernandez High School       3600-5400 Large  \n",
       "Holden High School              <1300 Small  \n",
       "Huang High School          1800-3600 Medium  \n",
       "Johnson High School         3600-5400 Large  \n",
       "Pena High School                <1300 Small  \n",
       "Rodriguez High School       3600-5400 Large  \n",
       "Shelton High School             <1300 Small  \n",
       "Thomas High School              <1300 Small  \n",
       "Wilson High School         1800-3600 Medium  \n",
       "Wright High School              <1300 Small  "
      ],
      "text/html": "<div>\n<style scoped>\n    .dataframe tbody tr th:only-of-type {\n        vertical-align: middle;\n    }\n\n    .dataframe tbody tr th {\n        vertical-align: top;\n    }\n\n    .dataframe thead th {\n        text-align: right;\n    }\n</style>\n<table border=\"1\" class=\"dataframe\">\n  <thead>\n    <tr style=\"text-align: right;\">\n      <th></th>\n      <th>School Type</th>\n      <th>Total Students</th>\n      <th>Total School Budget</th>\n      <th>Per Student Budget</th>\n      <th>Average Math Score</th>\n      <th>Average Reading Score</th>\n      <th>% Passing Math</th>\n      <th>% Passing Reading</th>\n      <th>% Passing Both</th>\n      <th>Spending Range (Per Student)</th>\n      <th>Scores by School Size</th>\n    </tr>\n  </thead>\n  <tbody>\n    <tr>\n      <th>Bailey High School</th>\n      <td>District</td>\n      <td>4976</td>\n      <td>$3124928.00</td>\n      <td>$628.00</td>\n      <td>77.05%</td>\n      <td>81.03%</td>\n      <td>66.68%</td>\n      <td>81.93%</td>\n      <td>54.64%</td>\n      <td>$600-$630</td>\n      <td>3600-5400 Large</td>\n    </tr>\n    <tr>\n      <th>Cabrera High School</th>\n      <td>Charter</td>\n      <td>1858</td>\n      <td>$1081356.00</td>\n      <td>$582.00</td>\n      <td>83.06%</td>\n      <td>83.98%</td>\n      <td>94.13%</td>\n      <td>97.04%</td>\n      <td>91.33%</td>\n      <td>$570-600</td>\n      <td>1800-3600 Medium</td>\n    </tr>\n    <tr>\n      <th>Figueroa High School</th>\n      <td>District</td>\n      <td>2949</td>\n      <td>$1884411.00</td>\n      <td>$639.00</td>\n      <td>76.71%</td>\n      <td>81.16%</td>\n      <td>65.99%</td>\n      <td>80.74%</td>\n      <td>53.20%</td>\n      <td>$630-660</td>\n      <td>1800-3600 Medium</td>\n    </tr>\n    <tr>\n      <th>Ford High School</th>\n      <td>District</td>\n      <td>2739</td>\n      <td>$1763916.00</td>\n      <td>$644.00</td>\n      <td>77.10%</td>\n      <td>80.75%</td>\n      <td>68.31%</td>\n      <td>79.30%</td>\n      <td>54.29%</td>\n      <td>$630-660</td>\n      <td>1800-3600 Medium</td>\n    </tr>\n    <tr>\n      <th>Griffin High School</th>\n      <td>Charter</td>\n      <td>1468</td>\n      <td>$917500.00</td>\n      <td>$625.00</td>\n      <td>83.35%</td>\n      <td>83.82%</td>\n      <td>93.39%</td>\n      <td>97.14%</td>\n      <td>90.60%</td>\n      <td>$600-$630</td>\n      <td>&lt;1300 Small</td>\n    </tr>\n    <tr>\n      <th>Hernandez High School</th>\n      <td>District</td>\n      <td>4635</td>\n      <td>$3022020.00</td>\n      <td>$652.00</td>\n      <td>77.29%</td>\n      <td>80.93%</td>\n      <td>66.75%</td>\n      <td>80.86%</td>\n      <td>53.53%</td>\n      <td>$630-660</td>\n      <td>3600-5400 Large</td>\n    </tr>\n    <tr>\n      <th>Holden High School</th>\n      <td>Charter</td>\n      <td>427</td>\n      <td>$248087.00</td>\n      <td>$581.00</td>\n      <td>83.80%</td>\n      <td>83.81%</td>\n      <td>92.51%</td>\n      <td>96.25%</td>\n      <td>89.23%</td>\n      <td>$570-600</td>\n      <td>&lt;1300 Small</td>\n    </tr>\n    <tr>\n      <th>Huang High School</th>\n      <td>District</td>\n      <td>2917</td>\n      <td>$1910635.00</td>\n      <td>$655.00</td>\n      <td>76.63%</td>\n      <td>81.18%</td>\n      <td>65.68%</td>\n      <td>81.32%</td>\n      <td>53.51%</td>\n      <td>$630-660</td>\n      <td>1800-3600 Medium</td>\n    </tr>\n    <tr>\n      <th>Johnson High School</th>\n      <td>District</td>\n      <td>4761</td>\n      <td>$3094650.00</td>\n      <td>$650.00</td>\n      <td>77.07%</td>\n      <td>80.97%</td>\n      <td>66.06%</td>\n      <td>81.22%</td>\n      <td>53.54%</td>\n      <td>$630-660</td>\n      <td>3600-5400 Large</td>\n    </tr>\n    <tr>\n      <th>Pena High School</th>\n      <td>Charter</td>\n      <td>962</td>\n      <td>$585858.00</td>\n      <td>$609.00</td>\n      <td>83.84%</td>\n      <td>84.04%</td>\n      <td>94.59%</td>\n      <td>95.95%</td>\n      <td>90.54%</td>\n      <td>$600-$630</td>\n      <td>&lt;1300 Small</td>\n    </tr>\n    <tr>\n      <th>Rodriguez High School</th>\n      <td>District</td>\n      <td>3999</td>\n      <td>$2547363.00</td>\n      <td>$637.00</td>\n      <td>76.84%</td>\n      <td>80.74%</td>\n      <td>66.37%</td>\n      <td>80.22%</td>\n      <td>52.99%</td>\n      <td>$630-660</td>\n      <td>3600-5400 Large</td>\n    </tr>\n    <tr>\n      <th>Shelton High School</th>\n      <td>Charter</td>\n      <td>1761</td>\n      <td>$1056600.00</td>\n      <td>$600.00</td>\n      <td>83.36%</td>\n      <td>83.73%</td>\n      <td>93.87%</td>\n      <td>95.85%</td>\n      <td>89.89%</td>\n      <td>$570-600</td>\n      <td>&lt;1300 Small</td>\n    </tr>\n    <tr>\n      <th>Thomas High School</th>\n      <td>Charter</td>\n      <td>1635</td>\n      <td>$1043130.00</td>\n      <td>$638.00</td>\n      <td>83.42%</td>\n      <td>83.85%</td>\n      <td>93.27%</td>\n      <td>97.31%</td>\n      <td>90.95%</td>\n      <td>$630-660</td>\n      <td>&lt;1300 Small</td>\n    </tr>\n    <tr>\n      <th>Wilson High School</th>\n      <td>Charter</td>\n      <td>2283</td>\n      <td>$1319574.00</td>\n      <td>$578.00</td>\n      <td>83.27%</td>\n      <td>83.99%</td>\n      <td>93.87%</td>\n      <td>96.54%</td>\n      <td>90.58%</td>\n      <td>$570-600</td>\n      <td>1800-3600 Medium</td>\n    </tr>\n    <tr>\n      <th>Wright High School</th>\n      <td>Charter</td>\n      <td>1800</td>\n      <td>$1049400.00</td>\n      <td>$583.00</td>\n      <td>83.68%</td>\n      <td>83.95%</td>\n      <td>93.33%</td>\n      <td>96.61%</td>\n      <td>90.33%</td>\n      <td>$570-600</td>\n      <td>&lt;1300 Small</td>\n    </tr>\n  </tbody>\n</table>\n</div>"
     },
     "metadata": {},
     "execution_count": 54
    }
   ],
   "source": [
    "#School Size\n",
    "bins=[0, 1800, 3600, 5400]\n",
    "\n",
    "#Bin Names\n",
    "bins_labels=[\"<1300 Small\", \"1800-3600 Medium\",\"3600-5400 Large\"] \n",
    "\n",
    "School_Overview_df[\"Scores by School Size\"]=pd.cut(Population, bins, labels=bins_labels, include_lowest=True)\n",
    "School_Overview_df.head(15)"
   ]
  },
  {
   "cell_type": "markdown",
   "metadata": {},
   "source": [
    "## Scores by School Type"
   ]
  },
  {
   "cell_type": "markdown",
   "metadata": {},
   "source": [
    "* Perform the same operations as above, based on school type"
   ]
  },
  {
   "cell_type": "code",
   "execution_count": 114,
   "metadata": {},
   "outputs": [
    {
     "output_type": "execute_result",
     "data": {
      "text/plain": [
       "                      School Type  Total Students Total School Budget  \\\n",
       "Bailey High School       District            4976         $3124928.00   \n",
       "Figueroa High School     District            2949         $1884411.00   \n",
       "Ford High School         District            2739         $1763916.00   \n",
       "Hernandez High School    District            4635         $3022020.00   \n",
       "Huang High School        District            2917         $1910635.00   \n",
       "Johnson High School      District            4761         $3094650.00   \n",
       "Rodriguez High School    District            3999         $2547363.00   \n",
       "Cabrera High School       Charter            1858         $1081356.00   \n",
       "Griffin High School       Charter            1468          $917500.00   \n",
       "Holden High School        Charter             427          $248087.00   \n",
       "Pena High School          Charter             962          $585858.00   \n",
       "Shelton High School       Charter            1761         $1056600.00   \n",
       "Thomas High School        Charter            1635         $1043130.00   \n",
       "Wilson High School        Charter            2283         $1319574.00   \n",
       "Wright High School        Charter            1800         $1049400.00   \n",
       "\n",
       "                      Per Student Budget Average Math Score  \\\n",
       "Bailey High School               $628.00             77.05%   \n",
       "Figueroa High School             $639.00             76.71%   \n",
       "Ford High School                 $644.00             77.10%   \n",
       "Hernandez High School            $652.00             77.29%   \n",
       "Huang High School                $655.00             76.63%   \n",
       "Johnson High School              $650.00             77.07%   \n",
       "Rodriguez High School            $637.00             76.84%   \n",
       "Cabrera High School              $582.00             83.06%   \n",
       "Griffin High School              $625.00             83.35%   \n",
       "Holden High School               $581.00             83.80%   \n",
       "Pena High School                 $609.00             83.84%   \n",
       "Shelton High School              $600.00             83.36%   \n",
       "Thomas High School               $638.00             83.42%   \n",
       "Wilson High School               $578.00             83.27%   \n",
       "Wright High School               $583.00             83.68%   \n",
       "\n",
       "                      Average Reading Score % Passing Math % Passing Reading  \\\n",
       "Bailey High School                   81.03%         66.68%            81.93%   \n",
       "Figueroa High School                 81.16%         65.99%            80.74%   \n",
       "Ford High School                     80.75%         68.31%            79.30%   \n",
       "Hernandez High School                80.93%         66.75%            80.86%   \n",
       "Huang High School                    81.18%         65.68%            81.32%   \n",
       "Johnson High School                  80.97%         66.06%            81.22%   \n",
       "Rodriguez High School                80.74%         66.37%            80.22%   \n",
       "Cabrera High School                  83.98%         94.13%            97.04%   \n",
       "Griffin High School                  83.82%         93.39%            97.14%   \n",
       "Holden High School                   83.81%         92.51%            96.25%   \n",
       "Pena High School                     84.04%         94.59%            95.95%   \n",
       "Shelton High School                  83.73%         93.87%            95.85%   \n",
       "Thomas High School                   83.85%         93.27%            97.31%   \n",
       "Wilson High School                   83.99%         93.87%            96.54%   \n",
       "Wright High School                   83.95%         93.33%            96.61%   \n",
       "\n",
       "                      % Passing Both Spending Range (Per Student)  \\\n",
       "Bailey High School            54.64%                    $600-$630   \n",
       "Figueroa High School          53.20%                     $630-660   \n",
       "Ford High School              54.29%                     $630-660   \n",
       "Hernandez High School         53.53%                     $630-660   \n",
       "Huang High School             53.51%                     $630-660   \n",
       "Johnson High School           53.54%                     $630-660   \n",
       "Rodriguez High School         52.99%                     $630-660   \n",
       "Cabrera High School           91.33%                     $570-600   \n",
       "Griffin High School           90.60%                    $600-$630   \n",
       "Holden High School            89.23%                     $570-600   \n",
       "Pena High School              90.54%                    $600-$630   \n",
       "Shelton High School           89.89%                     $570-600   \n",
       "Thomas High School            90.95%                     $630-660   \n",
       "Wilson High School            90.58%                     $570-600   \n",
       "Wright High School            90.33%                     $570-600   \n",
       "\n",
       "                      Scores by School Size  \n",
       "Bailey High School          3600-5400 Large  \n",
       "Figueroa High School       1800-3600 Medium  \n",
       "Ford High School           1800-3600 Medium  \n",
       "Hernandez High School       3600-5400 Large  \n",
       "Huang High School          1800-3600 Medium  \n",
       "Johnson High School         3600-5400 Large  \n",
       "Rodriguez High School       3600-5400 Large  \n",
       "Cabrera High School        1800-3600 Medium  \n",
       "Griffin High School             <1300 Small  \n",
       "Holden High School              <1300 Small  \n",
       "Pena High School                <1300 Small  \n",
       "Shelton High School             <1300 Small  \n",
       "Thomas High School              <1300 Small  \n",
       "Wilson High School         1800-3600 Medium  \n",
       "Wright High School              <1300 Small  "
      ],
      "text/html": "<div>\n<style scoped>\n    .dataframe tbody tr th:only-of-type {\n        vertical-align: middle;\n    }\n\n    .dataframe tbody tr th {\n        vertical-align: top;\n    }\n\n    .dataframe thead th {\n        text-align: right;\n    }\n</style>\n<table border=\"1\" class=\"dataframe\">\n  <thead>\n    <tr style=\"text-align: right;\">\n      <th></th>\n      <th>School Type</th>\n      <th>Total Students</th>\n      <th>Total School Budget</th>\n      <th>Per Student Budget</th>\n      <th>Average Math Score</th>\n      <th>Average Reading Score</th>\n      <th>% Passing Math</th>\n      <th>% Passing Reading</th>\n      <th>% Passing Both</th>\n      <th>Spending Range (Per Student)</th>\n      <th>Scores by School Size</th>\n    </tr>\n  </thead>\n  <tbody>\n    <tr>\n      <th>Bailey High School</th>\n      <td>District</td>\n      <td>4976</td>\n      <td>$3124928.00</td>\n      <td>$628.00</td>\n      <td>77.05%</td>\n      <td>81.03%</td>\n      <td>66.68%</td>\n      <td>81.93%</td>\n      <td>54.64%</td>\n      <td>$600-$630</td>\n      <td>3600-5400 Large</td>\n    </tr>\n    <tr>\n      <th>Figueroa High School</th>\n      <td>District</td>\n      <td>2949</td>\n      <td>$1884411.00</td>\n      <td>$639.00</td>\n      <td>76.71%</td>\n      <td>81.16%</td>\n      <td>65.99%</td>\n      <td>80.74%</td>\n      <td>53.20%</td>\n      <td>$630-660</td>\n      <td>1800-3600 Medium</td>\n    </tr>\n    <tr>\n      <th>Ford High School</th>\n      <td>District</td>\n      <td>2739</td>\n      <td>$1763916.00</td>\n      <td>$644.00</td>\n      <td>77.10%</td>\n      <td>80.75%</td>\n      <td>68.31%</td>\n      <td>79.30%</td>\n      <td>54.29%</td>\n      <td>$630-660</td>\n      <td>1800-3600 Medium</td>\n    </tr>\n    <tr>\n      <th>Hernandez High School</th>\n      <td>District</td>\n      <td>4635</td>\n      <td>$3022020.00</td>\n      <td>$652.00</td>\n      <td>77.29%</td>\n      <td>80.93%</td>\n      <td>66.75%</td>\n      <td>80.86%</td>\n      <td>53.53%</td>\n      <td>$630-660</td>\n      <td>3600-5400 Large</td>\n    </tr>\n    <tr>\n      <th>Huang High School</th>\n      <td>District</td>\n      <td>2917</td>\n      <td>$1910635.00</td>\n      <td>$655.00</td>\n      <td>76.63%</td>\n      <td>81.18%</td>\n      <td>65.68%</td>\n      <td>81.32%</td>\n      <td>53.51%</td>\n      <td>$630-660</td>\n      <td>1800-3600 Medium</td>\n    </tr>\n    <tr>\n      <th>Johnson High School</th>\n      <td>District</td>\n      <td>4761</td>\n      <td>$3094650.00</td>\n      <td>$650.00</td>\n      <td>77.07%</td>\n      <td>80.97%</td>\n      <td>66.06%</td>\n      <td>81.22%</td>\n      <td>53.54%</td>\n      <td>$630-660</td>\n      <td>3600-5400 Large</td>\n    </tr>\n    <tr>\n      <th>Rodriguez High School</th>\n      <td>District</td>\n      <td>3999</td>\n      <td>$2547363.00</td>\n      <td>$637.00</td>\n      <td>76.84%</td>\n      <td>80.74%</td>\n      <td>66.37%</td>\n      <td>80.22%</td>\n      <td>52.99%</td>\n      <td>$630-660</td>\n      <td>3600-5400 Large</td>\n    </tr>\n    <tr>\n      <th>Cabrera High School</th>\n      <td>Charter</td>\n      <td>1858</td>\n      <td>$1081356.00</td>\n      <td>$582.00</td>\n      <td>83.06%</td>\n      <td>83.98%</td>\n      <td>94.13%</td>\n      <td>97.04%</td>\n      <td>91.33%</td>\n      <td>$570-600</td>\n      <td>1800-3600 Medium</td>\n    </tr>\n    <tr>\n      <th>Griffin High School</th>\n      <td>Charter</td>\n      <td>1468</td>\n      <td>$917500.00</td>\n      <td>$625.00</td>\n      <td>83.35%</td>\n      <td>83.82%</td>\n      <td>93.39%</td>\n      <td>97.14%</td>\n      <td>90.60%</td>\n      <td>$600-$630</td>\n      <td>&lt;1300 Small</td>\n    </tr>\n    <tr>\n      <th>Holden High School</th>\n      <td>Charter</td>\n      <td>427</td>\n      <td>$248087.00</td>\n      <td>$581.00</td>\n      <td>83.80%</td>\n      <td>83.81%</td>\n      <td>92.51%</td>\n      <td>96.25%</td>\n      <td>89.23%</td>\n      <td>$570-600</td>\n      <td>&lt;1300 Small</td>\n    </tr>\n    <tr>\n      <th>Pena High School</th>\n      <td>Charter</td>\n      <td>962</td>\n      <td>$585858.00</td>\n      <td>$609.00</td>\n      <td>83.84%</td>\n      <td>84.04%</td>\n      <td>94.59%</td>\n      <td>95.95%</td>\n      <td>90.54%</td>\n      <td>$600-$630</td>\n      <td>&lt;1300 Small</td>\n    </tr>\n    <tr>\n      <th>Shelton High School</th>\n      <td>Charter</td>\n      <td>1761</td>\n      <td>$1056600.00</td>\n      <td>$600.00</td>\n      <td>83.36%</td>\n      <td>83.73%</td>\n      <td>93.87%</td>\n      <td>95.85%</td>\n      <td>89.89%</td>\n      <td>$570-600</td>\n      <td>&lt;1300 Small</td>\n    </tr>\n    <tr>\n      <th>Thomas High School</th>\n      <td>Charter</td>\n      <td>1635</td>\n      <td>$1043130.00</td>\n      <td>$638.00</td>\n      <td>83.42%</td>\n      <td>83.85%</td>\n      <td>93.27%</td>\n      <td>97.31%</td>\n      <td>90.95%</td>\n      <td>$630-660</td>\n      <td>&lt;1300 Small</td>\n    </tr>\n    <tr>\n      <th>Wilson High School</th>\n      <td>Charter</td>\n      <td>2283</td>\n      <td>$1319574.00</td>\n      <td>$578.00</td>\n      <td>83.27%</td>\n      <td>83.99%</td>\n      <td>93.87%</td>\n      <td>96.54%</td>\n      <td>90.58%</td>\n      <td>$570-600</td>\n      <td>1800-3600 Medium</td>\n    </tr>\n    <tr>\n      <th>Wright High School</th>\n      <td>Charter</td>\n      <td>1800</td>\n      <td>$1049400.00</td>\n      <td>$583.00</td>\n      <td>83.68%</td>\n      <td>83.95%</td>\n      <td>93.33%</td>\n      <td>96.61%</td>\n      <td>90.33%</td>\n      <td>$570-600</td>\n      <td>&lt;1300 Small</td>\n    </tr>\n  </tbody>\n</table>\n</div>"
     },
     "metadata": {},
     "execution_count": 114
    }
   ],
   "source": [
    "ScoresByType=School_Overview_df.sort_values([\"School Type\"], ascending=False)\n",
    "ScoresByType.head(15)"
   ]
  }
 ],
 "metadata": {
  "anaconda-cloud": {},
  "kernel_info": {
   "name": "python3"
  },
  "kernelspec": {
   "name": "python385jvsc74a57bd0403a5d6a394a01ef26b2cc6b156171da77f8332ee7637ee8dac9f64c5d1c19b3",
   "display_name": "Python 3.8.5 64-bit ('base': conda)"
  },
  "language_info": {
   "codemirror_mode": {
    "name": "ipython",
    "version": 3
   },
   "file_extension": ".py",
   "mimetype": "text/x-python",
   "name": "python",
   "nbconvert_exporter": "python",
   "pygments_lexer": "ipython3",
   "version": "3.8.5"
  },
  "latex_envs": {
   "LaTeX_envs_menu_present": true,
   "autoclose": false,
   "autocomplete": true,
   "bibliofile": "biblio.bib",
   "cite_by": "apalike",
   "current_citInitial": 1,
   "eqLabelWithNumbers": true,
   "eqNumInitial": 1,
   "hotkeys": {
    "equation": "Ctrl-E",
    "itemize": "Ctrl-I"
   },
   "labels_anchors": false,
   "latex_user_defs": false,
   "report_style_numbering": false,
   "user_envs_cfg": false
  },
  "nteract": {
   "version": "0.8.4"
  }
 },
 "nbformat": 4,
 "nbformat_minor": 1
}