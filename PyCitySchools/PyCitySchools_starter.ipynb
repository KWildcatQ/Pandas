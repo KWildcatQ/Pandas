{
 "cells": [
  {
   "cell_type": "markdown",
   "metadata": {},
   "source": [
    "### Note\n",
    "* Instructions have been included for each segment. You do not have to follow them exactly, but they are included to help you think through the steps."
   ]
  },
  {
   "cell_type": "code",
   "execution_count": null,
   "metadata": {},
   "outputs": [],
   "source": [
    "# Dependencies and Setup\n",
    "\n",
    "import os\n",
    "import pandas as pd\n",
    "\n",
    "# File to Load (Remember to Change These)\n",
    "school_data_to_load = (r\"/Users/kellenquinn/Desktop/pandas-challenge/pandas-challenge/pandas-challenge/PyCitySchools/Resources/schools_complete.csv\")\n",
    "student_data_to_load = (r\"/Users/kellenquinn/Desktop/pandas-challenge/pandas-challenge/pandas-challenge/PyCitySchools/Resources/students_complete.csv\")\n",
    "\n",
    "# Read School and Student Data File and store into Pandas DataFrames\n",
    "school_data_df = pd.read_csv(school_data_to_load)\n",
    "student_data_df = pd.read_csv(student_data_to_load)\n",
    "\n",
    "\n",
    "# Combine the data into a single dataset.  \n",
    "school_data_complete_df = pd.merge(student_data_df, school_data_df, how=\"left\", on=\"school_name\")\n",
    "school_data_complete_df\n"
   ]
  },
  {
   "cell_type": "markdown",
   "metadata": {},
   "source": [
    "## District Summary\n",
    "\n",
    "* Calculate the total number of schools\n",
    "\n",
    "* Calculate the total number of students\n",
    "\n",
    "* Calculate the total budget\n",
    "\n",
    "* Calculate the average math score \n",
    "\n",
    "* Calculate the average reading score\n",
    "\n",
    "* Calculate the percentage of students with a passing math score (70 or greater)\n",
    "\n",
    "* Calculate the percentage of students with a passing reading score (70 or greater)\n",
    "\n",
    "* Calculate the percentage of students who passed math **and** reading (% Overall Passing)\n",
    "\n",
    "* Create a dataframe to hold the above results\n",
    "\n",
    "* Optional: give the displayed data cleaner formatting"
   ]
  },
  {
   "cell_type": "code",
   "execution_count": null,
   "metadata": {},
   "outputs": [],
   "source": [
    "# Total Number of Schools in District\n",
    "Schools = len(pd.unique(school_data_complete_df['school_name']))\n",
    "print(\"No_of_schools:\", Schools)          "
   ]
  },
  {
   "cell_type": "code",
   "execution_count": null,
   "metadata": {},
   "outputs": [],
   "source": [
    "# Total Number of Students in District\n",
    "Students = len(pd.unique(school_data_complete_df['Student ID']))\n",
    "print(\"No_of_students:\", Students)"
   ]
  },
  {
   "cell_type": "code",
   "execution_count": null,
   "metadata": {},
   "outputs": [],
   "source": [
    "# Total District Budget\n",
    "TotalDistBudget=school_data_df['budget'].sum()\n",
    "print(\"${:.2f}\".format(TotalDistBudget))"
   ]
  },
  {
   "cell_type": "code",
   "execution_count": null,
   "metadata": {},
   "outputs": [],
   "source": [
    "# Average Math Score\n",
    "Average_Math_Score =student_data_df['math_score'].mean()\n",
    "print(\"{:.2f}%\".format(Average_Math_Score))"
   ]
  },
  {
   "cell_type": "code",
   "execution_count": null,
   "metadata": {},
   "outputs": [],
   "source": [
    " # Average Reading Score\n",
    " Average_Reading_Score = student_data_df['reading_score'].mean()\n",
    " print(\"{:.2f}%\".format(Average_Reading_Score))"
   ]
  },
  {
   "cell_type": "code",
   "execution_count": null,
   "metadata": {},
   "outputs": [],
   "source": [
    "# Percent Passing Math\n",
    "Percent_Pass_Math=(student_data_df['math_score']>=70).sum()\n",
    "print(\"Percent of Students Passing Math Test: {:.2f}%\".format((Percent_Pass_Math/Students)*100))"
   ]
  },
  {
   "cell_type": "code",
   "execution_count": null,
   "metadata": {},
   "outputs": [],
   "source": [
    "#Percent Passing Reading\n",
    "Percent_Pass_Reading=(student_data_df['reading_score']>=70).sum()\n",
    "print(\"Percent of Students Passing Reading Test: {:.2f}%\".format((Percent_Pass_Reading/Students)*100))"
   ]
  },
  {
   "cell_type": "code",
   "execution_count": null,
   "metadata": {},
   "outputs": [],
   "source": [
    "#Percent Passing Both Math and Reading\n",
    "Percent_Pass_Both=((student_data_df['math_score']>=70) & (student_data_df['reading_score']>=70)).sum()\n",
    "print(\"Percent of Students Passing Both Tests: {:.2f}%\".format((Percent_Pass_Both/Students)*100))"
   ]
  },
  {
   "cell_type": "code",
   "execution_count": null,
   "metadata": {},
   "outputs": [],
   "source": [
    "#District Data Overview Table\n",
    "District_Data = {'Schools':[Schools], 'Students': [Students],'Budget':[TotalDistBudget],'Avg Math Score':[Average_Math_Score], 'Passing Math':['74.98%'], 'Avg Reading Score': [Average_Reading_Score], 'Passing Reading':['85.81%'], '% Passing Both':['65.17%']}\n",
    "df=pd.DataFrame(District_Data)\n",
    "df[\"Avg Math Score\"]=df[\"Avg Math Score\"].map(\"{:.2f}%\".format)\n",
    "df[\"Avg Reading Score\"]=df[\"Avg Reading Score\"].map(\"{:.2f}%\".format)\n",
    "df[\"Budget\"]=df[\"Budget\"].map(\"${:.0f}\".format)\n",
    "df.head()"
   ]
  },
  {
   "cell_type": "markdown",
   "metadata": {},
   "source": [
    "* Create an overview table that summarizes key metrics about each school, including:\n",
    "  * School Name\n",
    "  * School Type\n",
    "  * Total Students\n",
    "  * Total School Budget\n",
    "  * Per Student Budget\n",
    "  * Average Math Score\n",
    "  * Average Reading Score\n",
    "  * % Passing Math\n",
    "  * % Passing Reading\n",
    "  * % Overall Passing (The percentage of students that passed math **and** reading.)\n",
    "  \n",
    "* Create a dataframe to hold the above results"
   ]
  },
  {
   "cell_type": "code",
   "execution_count": null,
   "metadata": {},
   "outputs": [],
   "source": [
    "#Groupby of School Names\n",
    "\n",
    "by_school = school_data_df['school_name']\n",
    "by_school"
   ]
  },
  {
   "cell_type": "code",
   "execution_count": null,
   "metadata": {},
   "outputs": [],
   "source": [
    "#Groubpy of School Types\n",
    "School_type = school_data_df.set_index([\"school_name\"])[\"type\"]\n",
    "School_type"
   ]
  },
  {
   "cell_type": "code",
   "execution_count": null,
   "metadata": {},
   "outputs": [],
   "source": [
    "# Groupby of Merged Data\n",
    "Budget_Per_School=school_data_complete_df.groupby(\"school_name\").mean()[\"budget\"]\n",
    "Budget_Per_School.map(\"${:.0f}\".format)"
   ]
  },
  {
   "cell_type": "code",
   "execution_count": null,
   "metadata": {},
   "outputs": [],
   "source": [
    "# Average Budget Per Student\n",
    "Budget_Per_School=school_data_complete_df.groupby(\"school_name\").mean()[\"budget\"]\n",
    "Average__budget_per_student=Budget_Per_School/school_data_complete_df[\"school_name\"].value_counts()\n",
    "Average__budget_per_student.map(\"${:.0f}\".format)"
   ]
  },
  {
   "cell_type": "code",
   "execution_count": null,
   "metadata": {},
   "outputs": [],
   "source": [
    "# Average Reading Score Per Student\n",
    "Average_reading_score_perschool=school_data_complete_df.groupby(\"school_name\").mean()[\"reading_score\"]\n",
    "Average_reading_score_perschool.map(\"{:.2f}%\".format)"
   ]
  },
  {
   "cell_type": "code",
   "execution_count": null,
   "metadata": {},
   "outputs": [],
   "source": [
    "# Average Percent Passing Reading Per School\n",
    "School_passing_reading=school_data_complete_df[(school_data_complete_df['reading_score']>=70)]\n",
    "\n",
    "# Calculate Passing Rate\n",
    "Average_reading_per_school=School_passing_reading.groupby([\"school_name\"]).count()[\"student_name\"]/school_data_complete_df[\"school_name\"].value_counts()*100\n",
    "Average_reading_per_school.map(\"{:.2f}%\".format)\n"
   ]
  },
  {
   "cell_type": "code",
   "execution_count": null,
   "metadata": {},
   "outputs": [],
   "source": [
    "# Average Math Score Per Student\n",
    "Average_Math_Score_PerSchool=school_data_complete_df.groupby(\"school_name\").mean()[\"math_score\"]\n",
    "Average_Math_Score_PerSchool.map(\"{:.2f}%\".format)"
   ]
  },
  {
   "cell_type": "code",
   "execution_count": null,
   "metadata": {},
   "outputs": [],
   "source": [
    "# Average Percent Passing Math Per School\n",
    "School_passing_math=school_data_complete_df[(school_data_complete_df['math_score']>=70)]\n",
    "\n",
    "# Calculate Passing Rate\n",
    "Average_math_per_school=School_passing_math.groupby([\"school_name\"]).count()[\"student_name\"]/school_data_complete_df[\"school_name\"].value_counts()*100\n",
    "Average_math_per_school.map(\"{:.2f}%\".format)\n"
   ]
  },
  {
   "cell_type": "code",
   "execution_count": null,
   "metadata": {},
   "outputs": [],
   "source": [
    "# Average Percent Passing Math and Reading Per School\n",
    "School_passing_both=school_data_complete_df[(school_data_complete_df['math_score']>=70)&(school_data_complete_df['reading_score']>=70)]\n",
    "\n",
    "# Calculate Passing Rate\n",
    "Average_both_per_school=School_passing_both.groupby([\"school_name\"]).count()[\"student_name\"]/school_data_complete_df[\"school_name\"].value_counts()*100\n",
    "Average_both_per_school.map(\"{:.2f}%\".format)\n"
   ]
  },
  {
   "cell_type": "code",
   "execution_count": null,
   "metadata": {},
   "outputs": [],
   "source": [
    "#Population of Each School\n",
    "Population=school_data_complete_df.groupby(\"school_name\").count()[\"size\"]\n",
    "Population"
   ]
  },
  {
   "cell_type": "code",
   "execution_count": null,
   "metadata": {},
   "outputs": [],
   "source": [
    "#Schools Overview Table\n",
    "\n",
    "School_Overview={'School Type': School_type, 'Total Students':Population, 'Total School Budget':Budget_Per_School.map(\"${:.2f}\".format), 'Per Student Budget':Average__budget_per_student.map(\"${:.2f}\".format), 'Average Math Score': Average_Math_Score_PerSchool.map(\"{:.2f}%\".format), 'Average Reading Score': Average_reading_score_perschool.map(\"{:.2f}%\".format), '% Passing Math':Average_math_per_school.map(\"{:.2f}%\".format), '% Passing Reading': Average_reading_per_school.map(\"{:.2f}%\".format), '% Passing Both': Average_both_per_school.map(\"{:.2f}%\".format)}\n",
    "School_Overview_df=pd.DataFrame(School_Overview)\n",
    "School_Overview_df"
   ]
  },
  {
   "cell_type": "markdown",
   "metadata": {},
   "source": [
    "* Sort and display the top five performing schools by % overall passing."
   ]
  },
  {
   "cell_type": "code",
   "execution_count": null,
   "metadata": {},
   "outputs": [],
   "source": [
    "# Top 5 Performing Schools\n",
    "Top_Schools=School_Overview_df.sort_values([\"% Passing Both\"], ascending=False)\n",
    "Top_Schools.head(5)\n",
    "\n"
   ]
  },
  {
   "cell_type": "markdown",
   "metadata": {},
   "source": [
    "## Bottom Performing Schools (By % Overall Passing)"
   ]
  },
  {
   "cell_type": "markdown",
   "metadata": {},
   "source": [
    "* Sort and display the five worst-performing schools by % overall passing."
   ]
  },
  {
   "cell_type": "code",
   "execution_count": null,
   "metadata": {},
   "outputs": [],
   "source": [
    "# Bottom 5 Performing Schools\n",
    "Bottom_Schools=School_Overview_df.sort_values([\"% Passing Both\"], ascending=True)\n",
    "Bottom_Schools.head(5)"
   ]
  },
  {
   "cell_type": "markdown",
   "metadata": {
    "collapsed": true
   },
   "source": [
    "## Math Scores by Grade"
   ]
  },
  {
   "cell_type": "code",
   "execution_count": null,
   "metadata": {},
   "outputs": [],
   "source": [
    "# 9th Grade\n",
    "\n",
    "grade_nine=school_data_complete_df[(school_data_complete_df[\"grade\"] == \"9th\")]\n",
    "grade_nine\n",
    "\n",
    "Nine_Math_Score_PerSchool=grade_nine.groupby([\"school_name\"]).mean()[\"math_score\"]\n",
    "Nine_Math_Score_PerSchool.map(\"{:.2f}%\".format)"
   ]
  },
  {
   "cell_type": "code",
   "execution_count": null,
   "metadata": {},
   "outputs": [],
   "source": [
    "#10th Grade\n",
    "\n",
    "grade_tenth=school_data_complete_df[(school_data_complete_df[\"grade\"] == \"10th\")]\n",
    "grade_tenth\n",
    "\n",
    "Tenth_Math_Score_PerSchool=grade_tenth.groupby([\"school_name\"]).mean()[\"math_score\"]\n",
    "Tenth_Math_Score_PerSchool.map(\"{:.2f}%\".format)"
   ]
  },
  {
   "cell_type": "code",
   "execution_count": null,
   "metadata": {},
   "outputs": [],
   "source": [
    "#11th Grade\n",
    "\n",
    "grade_eleventh = school_data_complete_df[(school_data_complete_df[\"grade\"] == \"11th\")]\n",
    "grade_eleventh\n",
    "\n",
    "Eleventh_Math_Score_PerSchool=grade_eleventh.groupby([\"school_name\"]).mean()[\"math_score\"]\n",
    "Eleventh_Math_Score_PerSchool.map(\"{:.2f}%\".format)"
   ]
  },
  {
   "cell_type": "code",
   "execution_count": null,
   "metadata": {},
   "outputs": [],
   "source": [
    "#12th Grade\n",
    "grade_twelfth = school_data_complete_df[(school_data_complete_df[\"grade\"] == \"12th\")]\n",
    "grade_twelfth\n",
    "\n",
    "Twelfth_Math_Score_PerSchool=grade_twelfth.groupby([\"school_name\"]).mean()[\"math_score\"]\n",
    "Twelfth_Math_Score_PerSchool.map(\"{:.2f}%\".format)"
   ]
  },
  {
   "cell_type": "code",
   "execution_count": null,
   "metadata": {},
   "outputs": [],
   "source": [
    "#Math Scores by Grade and School\n",
    "\n",
    "Math_Score_by_Grade={'9th Grade': Nine_Math_Score_PerSchool.map(\"{:.2f}%\".format), '10th Grade': Tenth_Math_Score_PerSchool.map(\"{:.2f}%\".format), '11th Grade': Eleventh_Math_Score_PerSchool.map(\"{:.2f}%\".format), '12th Grade': Twelfth_Math_Score_PerSchool.map(\"{:.2f}%\".format)}\n",
    "\n",
    "Math_Score_byGrade=pd.DataFrame(Math_Score_by_Grade)\n",
    "Math_Score_byGrade\n"
   ]
  },
  {
   "cell_type": "markdown",
   "metadata": {},
   "source": [
    "## Reading Score by Grade "
   ]
  },
  {
   "cell_type": "code",
   "execution_count": null,
   "metadata": {},
   "outputs": [],
   "source": [
    "#9th Grade Reading\n",
    "Nine_Reading_Score_PerSchool=grade_nine.groupby([\"school_name\"]).mean()[\"reading_score\"]\n",
    "Nine_Reading_Score_PerSchool.map(\"{:.2f}%\".format)"
   ]
  },
  {
   "cell_type": "code",
   "execution_count": null,
   "metadata": {},
   "outputs": [],
   "source": [
    "#10th Grade Reading\n",
    "Tenth_Reading_Score_PerSchool=grade_tenth.groupby([\"school_name\"]).mean()[\"reading_score\"]\n",
    "Tenth_Reading_Score_PerSchool.map(\"{:.2f}%\".format)"
   ]
  },
  {
   "cell_type": "code",
   "execution_count": null,
   "metadata": {},
   "outputs": [],
   "source": [
    "#11th Grade Reading\n",
    "Eleventh_Reading_Score_PerSchool=grade_eleventh.groupby([\"school_name\"]).mean()[\"reading_score\"]\n",
    "Eleventh_Reading_Score_PerSchool.map(\"{:.2f}%\".format)"
   ]
  },
  {
   "cell_type": "code",
   "execution_count": null,
   "metadata": {},
   "outputs": [],
   "source": [
    "#12th Grade Reading\n",
    "Twelfth_Reading_Score_PerSchool=grade_twelfth.groupby([\"school_name\"]).mean()[\"reading_score\"]\n",
    "Twelfth_Reading_Score_PerSchool.map(\"{:.2f}%\".format)"
   ]
  },
  {
   "cell_type": "code",
   "execution_count": null,
   "metadata": {},
   "outputs": [],
   "source": [
    "# Reading Scores by Grade and School\n",
    "Reading_Score_by_Grade={'9th Grade': Nine_Reading_Score_PerSchool.map(\"{:.2f}%\".format), '10th Grade': Tenth_Reading_Score_PerSchool.map(\"{:.2f}%\".format), '11th Grade': Eleventh_Reading_Score_PerSchool.map(\"{:.2f}%\".format), '12th Grade': Twelfth_Reading_Score_PerSchool.map(\"{:.2f}%\".format)}\n",
    "\n",
    "Reading_Score_byGrade=pd.DataFrame(Reading_Score_by_Grade)\n",
    "Reading_Score_byGrade"
   ]
  },
  {
   "cell_type": "markdown",
   "metadata": {},
   "source": [
    "## Scores by School Spending"
   ]
  },
  {
   "cell_type": "markdown",
   "metadata": {},
   "source": [
    "* Create a table that breaks down school performances based on average Spending Ranges (Per Student). Use 4 reasonable bins to group school spending. Include in the table each of the following:\n",
    "  * Average Math Score\n",
    "  * Average Reading Score\n",
    "  * % Passing Math\n",
    "  * % Passing Reading\n",
    "  * Overall Passing Rate (Average of the above two)"
   ]
  },
  {
   "cell_type": "code",
   "execution_count": null,
   "metadata": {},
   "outputs": [],
   "source": [
    "#Scores by School Spending\n",
    "bins=[0, 570, 600, 630, 660]\n",
    "\n",
    "#Bin Names\n",
    "bins_labels=[\"<$570\", \"$570-600\",\"$600-$630\", \"$630-660\"] \n",
    "\n",
    "School_Overview_df[\"Spending Range (Per Student)\"]=pd.cut(Average__budget_per_student, bins, labels=bins_labels, include_lowest=True)\n",
    "School_Overview_df.head(15)\n"
   ]
  },
  {
   "cell_type": "markdown",
   "metadata": {},
   "source": [
    "## Scores by School Size"
   ]
  },
  {
   "cell_type": "markdown",
   "metadata": {},
   "source": [
    "* Perform the same operations as above, based on school size."
   ]
  },
  {
   "cell_type": "code",
   "execution_count": null,
   "metadata": {
    "scrolled": true
   },
   "outputs": [],
   "source": [
    "#School Size\n",
    "bins=[0, 1300, 2600, 3900, 5200]\n",
    "\n",
    "#Bin Names\n",
    "bins_labels=[\"<1300\", \"1300-2600\",\"2600-3900\", \"3900-5200\"] \n",
    "\n",
    "School_Overview_df[\"Scores by School Size\"]=pd.cut(Population, bins, labels=bins_labels, include_lowest=True)\n",
    "School_Overview_df.head(15)"
   ]
  },
  {
   "cell_type": "markdown",
   "metadata": {},
   "source": [
    "## Scores by School Type"
   ]
  },
  {
   "cell_type": "markdown",
   "metadata": {},
   "source": [
    "* Perform the same operations as above, based on school type"
   ]
  },
  {
   "cell_type": "code",
   "execution_count": 96,
   "metadata": {},
   "outputs": [
    {
     "output_type": "execute_result",
     "data": {
      "text/plain": [
       "                      School Type  Total Students Total School Budget  \\\n",
       "Bailey High School       District            4976         $3124928.00   \n",
       "Cabrera High School       Charter            1858         $1081356.00   \n",
       "Figueroa High School     District            2949         $1884411.00   \n",
       "Ford High School         District            2739         $1763916.00   \n",
       "Griffin High School       Charter            1468          $917500.00   \n",
       "Hernandez High School    District            4635         $3022020.00   \n",
       "Holden High School        Charter             427          $248087.00   \n",
       "Huang High School        District            2917         $1910635.00   \n",
       "Johnson High School      District            4761         $3094650.00   \n",
       "Pena High School          Charter             962          $585858.00   \n",
       "Rodriguez High School    District            3999         $2547363.00   \n",
       "Shelton High School       Charter            1761         $1056600.00   \n",
       "Thomas High School        Charter            1635         $1043130.00   \n",
       "Wilson High School        Charter            2283         $1319574.00   \n",
       "Wright High School        Charter            1800         $1049400.00   \n",
       "\n",
       "                      Per Student Budget Average Math Score  \\\n",
       "Bailey High School               $628.00             77.05%   \n",
       "Cabrera High School              $582.00             83.06%   \n",
       "Figueroa High School             $639.00             76.71%   \n",
       "Ford High School                 $644.00             77.10%   \n",
       "Griffin High School              $625.00             83.35%   \n",
       "Hernandez High School            $652.00             77.29%   \n",
       "Holden High School               $581.00             83.80%   \n",
       "Huang High School                $655.00             76.63%   \n",
       "Johnson High School              $650.00             77.07%   \n",
       "Pena High School                 $609.00             83.84%   \n",
       "Rodriguez High School            $637.00             76.84%   \n",
       "Shelton High School              $600.00             83.36%   \n",
       "Thomas High School               $638.00             83.42%   \n",
       "Wilson High School               $578.00             83.27%   \n",
       "Wright High School               $583.00             83.68%   \n",
       "\n",
       "                      Average Reading Score % Passing Math % Passing Reading  \\\n",
       "Bailey High School                   81.03%         66.68%            81.93%   \n",
       "Cabrera High School                  83.98%         94.13%            97.04%   \n",
       "Figueroa High School                 81.16%         65.99%            80.74%   \n",
       "Ford High School                     80.75%         68.31%            79.30%   \n",
       "Griffin High School                  83.82%         93.39%            97.14%   \n",
       "Hernandez High School                80.93%         66.75%            80.86%   \n",
       "Holden High School                   83.81%         92.51%            96.25%   \n",
       "Huang High School                    81.18%         65.68%            81.32%   \n",
       "Johnson High School                  80.97%         66.06%            81.22%   \n",
       "Pena High School                     84.04%         94.59%            95.95%   \n",
       "Rodriguez High School                80.74%         66.37%            80.22%   \n",
       "Shelton High School                  83.73%         93.87%            95.85%   \n",
       "Thomas High School                   83.85%         93.27%            97.31%   \n",
       "Wilson High School                   83.99%         93.87%            96.54%   \n",
       "Wright High School                   83.95%         93.33%            96.61%   \n",
       "\n",
       "                      % Passing Both Spending Range (Per Student)  \\\n",
       "Bailey High School            54.64%                    $600-$630   \n",
       "Cabrera High School           91.33%                     $570-600   \n",
       "Figueroa High School          53.20%                     $630-660   \n",
       "Ford High School              54.29%                     $630-660   \n",
       "Griffin High School           90.60%                    $600-$630   \n",
       "Hernandez High School         53.53%                     $630-660   \n",
       "Holden High School            89.23%                     $570-600   \n",
       "Huang High School             53.51%                     $630-660   \n",
       "Johnson High School           53.54%                     $630-660   \n",
       "Pena High School              90.54%                    $600-$630   \n",
       "Rodriguez High School         52.99%                     $630-660   \n",
       "Shelton High School           89.89%                     $570-600   \n",
       "Thomas High School            90.95%                     $630-660   \n",
       "Wilson High School            90.58%                     $570-600   \n",
       "Wright High School            90.33%                     $570-600   \n",
       "\n",
       "                      Scores by School Size  \n",
       "Bailey High School                3900-5200  \n",
       "Cabrera High School               1300-2600  \n",
       "Figueroa High School              2600-3900  \n",
       "Ford High School                  2600-3900  \n",
       "Griffin High School               1300-2600  \n",
       "Hernandez High School             3900-5200  \n",
       "Holden High School                    <1300  \n",
       "Huang High School                 2600-3900  \n",
       "Johnson High School               3900-5200  \n",
       "Pena High School                      <1300  \n",
       "Rodriguez High School             3900-5200  \n",
       "Shelton High School               1300-2600  \n",
       "Thomas High School                1300-2600  \n",
       "Wilson High School                1300-2600  \n",
       "Wright High School                1300-2600  "
      ],
      "text/html": "<div>\n<style scoped>\n    .dataframe tbody tr th:only-of-type {\n        vertical-align: middle;\n    }\n\n    .dataframe tbody tr th {\n        vertical-align: top;\n    }\n\n    .dataframe thead th {\n        text-align: right;\n    }\n</style>\n<table border=\"1\" class=\"dataframe\">\n  <thead>\n    <tr style=\"text-align: right;\">\n      <th></th>\n      <th>School Type</th>\n      <th>Total Students</th>\n      <th>Total School Budget</th>\n      <th>Per Student Budget</th>\n      <th>Average Math Score</th>\n      <th>Average Reading Score</th>\n      <th>% Passing Math</th>\n      <th>% Passing Reading</th>\n      <th>% Passing Both</th>\n      <th>Spending Range (Per Student)</th>\n      <th>Scores by School Size</th>\n    </tr>\n  </thead>\n  <tbody>\n    <tr>\n      <th>Bailey High School</th>\n      <td>District</td>\n      <td>4976</td>\n      <td>$3124928.00</td>\n      <td>$628.00</td>\n      <td>77.05%</td>\n      <td>81.03%</td>\n      <td>66.68%</td>\n      <td>81.93%</td>\n      <td>54.64%</td>\n      <td>$600-$630</td>\n      <td>3900-5200</td>\n    </tr>\n    <tr>\n      <th>Cabrera High School</th>\n      <td>Charter</td>\n      <td>1858</td>\n      <td>$1081356.00</td>\n      <td>$582.00</td>\n      <td>83.06%</td>\n      <td>83.98%</td>\n      <td>94.13%</td>\n      <td>97.04%</td>\n      <td>91.33%</td>\n      <td>$570-600</td>\n      <td>1300-2600</td>\n    </tr>\n    <tr>\n      <th>Figueroa High School</th>\n      <td>District</td>\n      <td>2949</td>\n      <td>$1884411.00</td>\n      <td>$639.00</td>\n      <td>76.71%</td>\n      <td>81.16%</td>\n      <td>65.99%</td>\n      <td>80.74%</td>\n      <td>53.20%</td>\n      <td>$630-660</td>\n      <td>2600-3900</td>\n    </tr>\n    <tr>\n      <th>Ford High School</th>\n      <td>District</td>\n      <td>2739</td>\n      <td>$1763916.00</td>\n      <td>$644.00</td>\n      <td>77.10%</td>\n      <td>80.75%</td>\n      <td>68.31%</td>\n      <td>79.30%</td>\n      <td>54.29%</td>\n      <td>$630-660</td>\n      <td>2600-3900</td>\n    </tr>\n    <tr>\n      <th>Griffin High School</th>\n      <td>Charter</td>\n      <td>1468</td>\n      <td>$917500.00</td>\n      <td>$625.00</td>\n      <td>83.35%</td>\n      <td>83.82%</td>\n      <td>93.39%</td>\n      <td>97.14%</td>\n      <td>90.60%</td>\n      <td>$600-$630</td>\n      <td>1300-2600</td>\n    </tr>\n    <tr>\n      <th>Hernandez High School</th>\n      <td>District</td>\n      <td>4635</td>\n      <td>$3022020.00</td>\n      <td>$652.00</td>\n      <td>77.29%</td>\n      <td>80.93%</td>\n      <td>66.75%</td>\n      <td>80.86%</td>\n      <td>53.53%</td>\n      <td>$630-660</td>\n      <td>3900-5200</td>\n    </tr>\n    <tr>\n      <th>Holden High School</th>\n      <td>Charter</td>\n      <td>427</td>\n      <td>$248087.00</td>\n      <td>$581.00</td>\n      <td>83.80%</td>\n      <td>83.81%</td>\n      <td>92.51%</td>\n      <td>96.25%</td>\n      <td>89.23%</td>\n      <td>$570-600</td>\n      <td>&lt;1300</td>\n    </tr>\n    <tr>\n      <th>Huang High School</th>\n      <td>District</td>\n      <td>2917</td>\n      <td>$1910635.00</td>\n      <td>$655.00</td>\n      <td>76.63%</td>\n      <td>81.18%</td>\n      <td>65.68%</td>\n      <td>81.32%</td>\n      <td>53.51%</td>\n      <td>$630-660</td>\n      <td>2600-3900</td>\n    </tr>\n    <tr>\n      <th>Johnson High School</th>\n      <td>District</td>\n      <td>4761</td>\n      <td>$3094650.00</td>\n      <td>$650.00</td>\n      <td>77.07%</td>\n      <td>80.97%</td>\n      <td>66.06%</td>\n      <td>81.22%</td>\n      <td>53.54%</td>\n      <td>$630-660</td>\n      <td>3900-5200</td>\n    </tr>\n    <tr>\n      <th>Pena High School</th>\n      <td>Charter</td>\n      <td>962</td>\n      <td>$585858.00</td>\n      <td>$609.00</td>\n      <td>83.84%</td>\n      <td>84.04%</td>\n      <td>94.59%</td>\n      <td>95.95%</td>\n      <td>90.54%</td>\n      <td>$600-$630</td>\n      <td>&lt;1300</td>\n    </tr>\n    <tr>\n      <th>Rodriguez High School</th>\n      <td>District</td>\n      <td>3999</td>\n      <td>$2547363.00</td>\n      <td>$637.00</td>\n      <td>76.84%</td>\n      <td>80.74%</td>\n      <td>66.37%</td>\n      <td>80.22%</td>\n      <td>52.99%</td>\n      <td>$630-660</td>\n      <td>3900-5200</td>\n    </tr>\n    <tr>\n      <th>Shelton High School</th>\n      <td>Charter</td>\n      <td>1761</td>\n      <td>$1056600.00</td>\n      <td>$600.00</td>\n      <td>83.36%</td>\n      <td>83.73%</td>\n      <td>93.87%</td>\n      <td>95.85%</td>\n      <td>89.89%</td>\n      <td>$570-600</td>\n      <td>1300-2600</td>\n    </tr>\n    <tr>\n      <th>Thomas High School</th>\n      <td>Charter</td>\n      <td>1635</td>\n      <td>$1043130.00</td>\n      <td>$638.00</td>\n      <td>83.42%</td>\n      <td>83.85%</td>\n      <td>93.27%</td>\n      <td>97.31%</td>\n      <td>90.95%</td>\n      <td>$630-660</td>\n      <td>1300-2600</td>\n    </tr>\n    <tr>\n      <th>Wilson High School</th>\n      <td>Charter</td>\n      <td>2283</td>\n      <td>$1319574.00</td>\n      <td>$578.00</td>\n      <td>83.27%</td>\n      <td>83.99%</td>\n      <td>93.87%</td>\n      <td>96.54%</td>\n      <td>90.58%</td>\n      <td>$570-600</td>\n      <td>1300-2600</td>\n    </tr>\n    <tr>\n      <th>Wright High School</th>\n      <td>Charter</td>\n      <td>1800</td>\n      <td>$1049400.00</td>\n      <td>$583.00</td>\n      <td>83.68%</td>\n      <td>83.95%</td>\n      <td>93.33%</td>\n      <td>96.61%</td>\n      <td>90.33%</td>\n      <td>$570-600</td>\n      <td>1300-2600</td>\n    </tr>\n  </tbody>\n</table>\n</div>"
     },
     "metadata": {},
     "execution_count": 96
    }
   ],
   "source": []
  },
  {
   "cell_type": "code",
   "execution_count": null,
   "metadata": {},
   "outputs": [],
   "source": []
  }
 ],
 "metadata": {
  "anaconda-cloud": {},
  "kernel_info": {
   "name": "python3"
  },
  "kernelspec": {
   "name": "python385jvsc74a57bd0403a5d6a394a01ef26b2cc6b156171da77f8332ee7637ee8dac9f64c5d1c19b3",
   "display_name": "Python 3.8.5 64-bit ('base': conda)"
  },
  "language_info": {
   "codemirror_mode": {
    "name": "ipython",
    "version": 3
   },
   "file_extension": ".py",
   "mimetype": "text/x-python",
   "name": "python",
   "nbconvert_exporter": "python",
   "pygments_lexer": "ipython3",
   "version": "3.8.5"
  },
  "latex_envs": {
   "LaTeX_envs_menu_present": true,
   "autoclose": false,
   "autocomplete": true,
   "bibliofile": "biblio.bib",
   "cite_by": "apalike",
   "current_citInitial": 1,
   "eqLabelWithNumbers": true,
   "eqNumInitial": 1,
   "hotkeys": {
    "equation": "Ctrl-E",
    "itemize": "Ctrl-I"
   },
   "labels_anchors": false,
   "latex_user_defs": false,
   "report_style_numbering": false,
   "user_envs_cfg": false
  },
  "nteract": {
   "version": "0.8.4"
  }
 },
 "nbformat": 4,
 "nbformat_minor": 1
}